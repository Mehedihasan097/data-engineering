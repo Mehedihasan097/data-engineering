{
 "cells": [
  {
   "cell_type": "code",
   "execution_count": 30,
   "metadata": {},
   "outputs": [
    {
     "name": "stdout",
     "output_type": "stream",
     "text": [
      "Requirement already satisfied: faker in c:\\users\\zihan\\.pyenv\\pyenv-win\\versions\\3.10.0\\lib\\site-packages (37.0.0)\n",
      "Requirement already satisfied: tzdata in c:\\users\\zihan\\.pyenv\\pyenv-win\\versions\\3.10.0\\lib\\site-packages (from faker) (2025.1)\n",
      "Note: you may need to restart the kernel to use updated packages.\n"
     ]
    },
    {
     "name": "stderr",
     "output_type": "stream",
     "text": [
      "WARNING: You are using pip version 21.2.3; however, version 25.0.1 is available.\n",
      "You should consider upgrading via the 'c:\\Users\\zihan\\.pyenv\\pyenv-win\\versions\\3.10.0\\python.exe -m pip install --upgrade pip' command.\n"
     ]
    }
   ],
   "source": [
    "%pip install faker"
   ]
  },
  {
   "cell_type": "code",
   "execution_count": 31,
   "metadata": {},
   "outputs": [],
   "source": [
    "import random\n",
    "import pandas as pd\n",
    "from faker import Faker\n",
    "from sqlalchemy import create_engine\n",
    "from datetime import datetime"
   ]
  },
  {
   "cell_type": "code",
   "execution_count": 32,
   "metadata": {},
   "outputs": [],
   "source": [
    "# Initialize Faker\n",
    "fake = Faker()"
   ]
  },
  {
   "cell_type": "code",
   "execution_count": 45,
   "metadata": {},
   "outputs": [],
   "source": [
    "# Generate Product Catalog Data\n",
    "def generate_product_catalog(n=50):\n",
    "    categories = ['Electronics', 'Clothing', 'Home & Kitchen', 'Books', 'Beauty', 'Toys', 'Sports']\n",
    "    data = [{\n",
    "        'product_id': i + 1,\n",
    "        'product_name': fake.word().capitalize() + ' ' + random.choice(categories),\n",
    "        'category': random.choice(categories)\n",
    "    } for i in range(n)]\n",
    "    return pd.DataFrame(data)"
   ]
  },
  {
   "cell_type": "code",
   "execution_count": 34,
   "metadata": {},
   "outputs": [],
   "source": [
    "# Generate Marketing Events Data with updated_at\n",
    "def generate_marketing_events(n=100):\n",
    "    event_types = ['click', 'view', 'impression', 'conversion']\n",
    "    channels = ['email', 'social', 'search', 'display']\n",
    "    campaigns = ['Summer Sale', 'Black Friday', 'New Year Promo', 'Flash Deal']\n",
    "    \n",
    "    data = [{\n",
    "        'event_id': i + 1,\n",
    "        'user_id': random.randint(1, 200),\n",
    "        'event_type': random.choice(event_types),\n",
    "        'event_timestamp': fake.date_time_this_year(),\n",
    "        'channel': random.choice(channels),\n",
    "        'campaign': random.choice(campaigns),\n",
    "        'cost': round(random.uniform(0.5, 10.0), 2),\n",
    "        'updated_at': datetime.now()\n",
    "    } for i in range(n)]\n",
    "    \n",
    "    return pd.DataFrame(data)"
   ]
  },
  {
   "cell_type": "code",
   "execution_count": 35,
   "metadata": {},
   "outputs": [],
   "source": [
    "# Generate Sales Transactions Data with updated_at\n",
    "def generate_sales_transactions(n=5000, product_catalog=None):\n",
    "    product_ids = product_catalog['product_id'].tolist()\n",
    "    \n",
    "    data = [{\n",
    "        'transaction_id': i + 1,\n",
    "        'product_id': random.choice(product_ids),\n",
    "        'user_id': random.randint(1, 200),\n",
    "        'transaction_timestamp': fake.date_time_this_year(),\n",
    "        'revenue': round(random.uniform(5.0, 500.0), 2),\n",
    "        'cost': round(random.uniform(2.5, 250.0), 2),\n",
    "        'updated_at': datetime.now()\n",
    "    } for i in range(n)]\n",
    "    \n",
    "    return pd.DataFrame(data)"
   ]
  },
  {
   "cell_type": "code",
   "execution_count": null,
   "metadata": {},
   "outputs": [],
   "source": [
    "# Generate Data\n",
    "\n",
    "marketing_events_df = generate_marketing_events(100)\n",
    "sales_transactions_df = generate_sales_transactions(5000, product_catalog_df)"
   ]
  },
  {
   "cell_type": "code",
   "execution_count": 46,
   "metadata": {},
   "outputs": [],
   "source": [
    "product_catalog_df = generate_product_catalog(50)"
   ]
  },
  {
   "cell_type": "markdown",
   "metadata": {},
   "source": [
    "Load data into staging schema"
   ]
  },
  {
   "cell_type": "code",
   "execution_count": 37,
   "metadata": {},
   "outputs": [],
   "source": [
    "# PostgreSQL Connection Details (Update as needed)\n",
    "DB_HOST = \"localhost\"\n",
    "DB_PORT = \"5432\"\n",
    "DB_NAME = \"dbt_demo\"\n",
    "DB_USER = \"postgres\"\n",
    "DB_PASSWORD = \"12345\""
   ]
  },
  {
   "cell_type": "code",
   "execution_count": 38,
   "metadata": {},
   "outputs": [],
   "source": [
    "# Create database engine\n",
    "engine = create_engine(f\"postgresql://{DB_USER}:{DB_PASSWORD}@{DB_HOST}:{DB_PORT}/{DB_NAME}\")"
   ]
  },
  {
   "cell_type": "code",
   "execution_count": 48,
   "metadata": {},
   "outputs": [
    {
     "data": {
      "text/plain": [
       "100"
      ]
     },
     "execution_count": 48,
     "metadata": {},
     "output_type": "execute_result"
    }
   ],
   "source": [
    "# Load Data into Staging Schema\n",
    "marketing_events_df.to_sql('marketing_events', engine, schema='raw', if_exists='append', index=False)\n"
   ]
  },
  {
   "cell_type": "code",
   "execution_count": 41,
   "metadata": {},
   "outputs": [
    {
     "data": {
      "text/plain": [
       "1000"
      ]
     },
     "execution_count": 41,
     "metadata": {},
     "output_type": "execute_result"
    }
   ],
   "source": [
    "sales_transactions_df.to_sql('sales_transactions', engine, schema='raw', if_exists='append', index=False)"
   ]
  },
  {
   "cell_type": "code",
   "execution_count": 47,
   "metadata": {},
   "outputs": [
    {
     "data": {
      "text/plain": [
       "50"
      ]
     },
     "execution_count": 47,
     "metadata": {},
     "output_type": "execute_result"
    }
   ],
   "source": [
    "product_catalog_df.to_sql('product_catalog', engine, schema='raw', if_exists='append', index=False)"
   ]
  }
 ],
 "metadata": {
  "kernelspec": {
   "display_name": "3.10.0",
   "language": "python",
   "name": "python3"
  },
  "language_info": {
   "codemirror_mode": {
    "name": "ipython",
    "version": 3
   },
   "file_extension": ".py",
   "mimetype": "text/x-python",
   "name": "python",
   "nbconvert_exporter": "python",
   "pygments_lexer": "ipython3",
   "version": "3.10.0"
  }
 },
 "nbformat": 4,
 "nbformat_minor": 2
}
