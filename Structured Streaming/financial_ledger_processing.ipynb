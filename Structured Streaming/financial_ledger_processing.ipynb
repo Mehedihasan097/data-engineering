{
 "cells": [
  {
   "cell_type": "code",
   "execution_count": 2,
   "id": "621c795c-a00f-44e3-9bf8-d50e72b15fc8",
   "metadata": {},
   "outputs": [],
   "source": [
    "from pyspark.sql import SparkSession\n",
    "from pyspark.sql.functions import col, from_json\n",
    "from pyspark.sql.types import *"
   ]
  },
  {
   "cell_type": "code",
   "execution_count": 3,
   "id": "d49d7482-c1da-4729-8db6-9d3c7dc2fbe8",
   "metadata": {},
   "outputs": [],
   "source": [
    "# 1. Create Spark session\n",
    "spark = SparkSession.builder \\\n",
    "    .appName(\"KafkaToDelta\") \\\n",
    "    .master(\"spark://spark-master:7077\") \\\n",
    "    .getOrCreate()"
   ]
  },
  {
   "cell_type": "code",
   "execution_count": 3,
   "id": "b2e0a2ee-91ed-46e6-b3ce-8269da7d6878",
   "metadata": {},
   "outputs": [],
   "source": [
    "payload_schema = StructType([\n",
    "    StructField(\"LEDGER_ENTRY_ID\", StringType(), False),\n",
    "    StructField(\"TRANSACTION_ID\", StringType(), False),\n",
    "    StructField(\"ENTRY_SEQUENCE_NO\", IntegerType(), False),\n",
    "    StructField(\"TRANSACTION_TIMESTAMP\", StringType(), False),\n",
    "    StructField(\"PROCESSING_TIMESTAMP\", StringType(), False),\n",
    "    StructField(\"VALUE_DATE\", StringType(), False),\n",
    "    StructField(\"ACCOUNT_ID\", LongType(), False),\n",
    "    StructField(\"GL_ACCOUNT_CODE\", StringType(), False),\n",
    "    StructField(\"AMOUNT\", DoubleType(), False),\n",
    "    StructField(\"CURRENCY_CODE\", StringType(), False),\n",
    "    StructField(\"ENTRY_TYPE\", StringType(), False),\n",
    "    StructField(\"EQUIVALENT_BASE_AMOUNT\", DoubleType(), False),\n",
    "    StructField(\"FX_RATE\", DoubleType(), False),\n",
    "    StructField(\"TRANSACTION_TYPE_CODE\", StringType(), False),\n",
    "    StructField(\"CHANNEL_CODE\", StringType(), False),\n",
    "    StructField(\"PROCESSING_SYSTEM_CODE\", StringType(), False),\n",
    "    StructField(\"TRANSACTION_STATUS_CODE\", StringType(), False),\n",
    "    StructField(\"ENTRY_DESCRIPTION\", StringType(), True),\n",
    "    StructField(\"BATCH_ID\", StringType(), True),\n",
    "    StructField(\"CORRELATION_ID\", StringType(), True),\n",
    "    StructField(\"IS_REVERSAL_ENTRY\", BooleanType(), False),\n",
    "    StructField(\"REVERSED_LEDGER_ENTRY_ID\", StringType(), True),\n",
    "    StructField(\"RELATED_ENTITY_TYPE\", StringType(), True),\n",
    "    StructField(\"RELATED_ENTITY_ID\", StringType(), True),\n",
    "    StructField(\"AUDIT_USER_ID\", LongType(), True),\n",
    "    StructField(\"AUDIT_CLIENT_IP\", StringType(), True),\n",
    "    StructField(\"AUDIT_HASH\", StringType(), True),\n",
    "    StructField(\"CREATED_DATE\", StringType(), False),\n",
    "    StructField(\"LAST_UPDATED_DATE\", StringType(), False),\n",
    "    StructField(\"__deleted\", StringType(), True)\n",
    "])\n"
   ]
  },
  {
   "cell_type": "code",
   "execution_count": null,
   "id": "ff132de2-3058-4ffd-bc3a-25362ba3ab61",
   "metadata": {},
   "outputs": [],
   "source": [
    "# 3. Define full envelope schema for Debezium message\n",
    "envelope_schema = StructType([\n",
    "    StructField(\"schema\", StructType(), True),  \n",
    "    StructField(\"payload\", payload_schema)      # actual data\n",
    "])"
   ]
  },
  {
   "cell_type": "code",
   "execution_count": null,
   "id": "d3669fa1-ba71-455a-89de-81b387b64436",
   "metadata": {},
   "outputs": [],
   "source": [
    "# 4. Read from Kafka topic as streaming source\n",
    "raw_df = spark.readStream \\\n",
    "    .format(\"kafka\") \\\n",
    "    .option(\"kafka.bootstrap.servers\", \"broker:29092\") \\\n",
    "    .option(\"subscribe\", \"postgres_cdc_.core_banking.financial_ledger\") \\\n",
    "    .option(\"startingOffsets\", \"earliest\") \\\n",
    "    .load()"
   ]
  },
  {
   "cell_type": "code",
   "execution_count": null,
   "id": "297ca25a-a6a6-41ce-b7a9-c255e2d71dd5",
   "metadata": {},
   "outputs": [],
   "source": [
    "# 5. Extract and parse the JSON string from Kafka 'value'\n",
    "json_df = raw_df.selectExpr(\"CAST(value AS STRING) as json_str\")"
   ]
  },
  {
   "cell_type": "code",
   "execution_count": null,
   "id": "7a273684-7ac1-4a4d-9197-7fdaccbcae5b",
   "metadata": {},
   "outputs": [],
   "source": [
    "# 6. Parse the JSON and extract only the payload part\n",
    "payload_df = json_df \\\n",
    "    .withColumn(\"data\", from_json(col(\"json_str\"), envelope_schema)) \\\n",
    "    .select(\"data.payload.*\")"
   ]
  },
  {
   "cell_type": "code",
   "execution_count": null,
   "id": "1602c3d5-2521-4b89-9e0e-a3b6154d5a67",
   "metadata": {},
   "outputs": [],
   "source": [
    "# 7. Write parsed payload to Delta (Bronze layer)\n",
    "query = payload_df.writeStream \\\n",
    "    .format(\"delta\") \\\n",
    "    .outputMode(\"append\") \\\n",
    "    .option(\"checkpointLocation\", \"/delta/checkpoints/financial_ledger\") \\\n",
    "    .start(\"/delta/bronze/financial_ledger\")"
   ]
  },
  {
   "cell_type": "code",
   "execution_count": 5,
   "id": "8ad92b8f-e3e0-48a3-a93c-637d3a875ecf",
   "metadata": {},
   "outputs": [],
   "source": [
    "from delta.tables import DeltaTable\n",
    "# Read the bronze Delta table\n",
    "bronze_df = spark.read.format(\"delta\").load(\"/delta/bronze/financial_ledger\")"
   ]
  },
  {
   "cell_type": "code",
   "execution_count": 6,
   "id": "24c47926-524b-43b5-9812-6da0fa397f79",
   "metadata": {},
   "outputs": [
    {
     "data": {
      "text/plain": [
       "507684"
      ]
     },
     "execution_count": 6,
     "metadata": {},
     "output_type": "execute_result"
    }
   ],
   "source": [
    "bronze_df.count()"
   ]
  },
  {
   "cell_type": "code",
   "execution_count": 5,
   "id": "132bbae1-955e-43b9-8736-53f2bbf1dfd7",
   "metadata": {},
   "outputs": [
    {
     "name": "stdout",
     "output_type": "stream",
     "text": [
      "+----------+--------------+-----------+------------+-------------+---------------+------------+------------+--------------+---------------+--------------------+--------------------+--------------------+\n",
      "|account_id|account_number|customer_id|account_type|currency_code|current_balance|opening_date|closing_date|account_status|gl_account_code|        created_date|   last_updated_date|         ingested_at|\n",
      "+----------+--------------+-----------+------------+-------------+---------------+------------+------------+--------------+---------------+--------------------+--------------------+--------------------+\n",
      "| 100000000|  ACCT00000000|   10000000|     Savings|          USD|          37879|  2019-07-04|        null|        Closed|         101001|2025-08-02 01:35:...|2025-08-02 01:35:...|2025-08-05 08:57:...|\n",
      "| 100000001|  ACCT00000001|   10000001|    Checking|          BDT|          76121|  2023-02-19|        null|        Active|         101002|2025-08-02 01:35:...|2025-08-02 01:35:...|2025-08-05 08:57:...|\n",
      "| 100000002|  ACCT00000002|   10000002|    Checking|          USD|          48834|  2019-07-11|        null|       Dormant|         101002|2025-08-02 01:35:...|2025-08-02 01:35:...|2025-08-05 08:57:...|\n",
      "| 100000003|  ACCT00000003|   10000003|     Savings|          USD|          53185|  2019-07-16|        null|        Closed|         101001|2025-08-02 01:35:...|2025-08-02 01:35:...|2025-08-05 08:57:...|\n",
      "| 100000004|  ACCT00000004|   10000004|    Checking|          USD|           2896|  2019-08-04|        null|       Dormant|         101002|2025-08-02 01:35:...|2025-08-02 01:35:...|2025-08-05 08:57:...|\n",
      "+----------+--------------+-----------+------------+-------------+---------------+------------+------------+--------------+---------------+--------------------+--------------------+--------------------+\n",
      "only showing top 5 rows\n",
      "\n"
     ]
    }
   ],
   "source": [
    "accounts_df.show(5)"
   ]
  },
  {
   "cell_type": "code",
   "execution_count": null,
   "id": "4640fc57-8340-4626-b471-03fece61150b",
   "metadata": {},
   "outputs": [],
   "source": []
  }
 ],
 "metadata": {
  "kernelspec": {
   "display_name": "Python 3 (ipykernel)",
   "language": "python",
   "name": "python3"
  },
  "language_info": {
   "codemirror_mode": {
    "name": "ipython",
    "version": 3
   },
   "file_extension": ".py",
   "mimetype": "text/x-python",
   "name": "python",
   "nbconvert_exporter": "python",
   "pygments_lexer": "ipython3",
   "version": "3.11.5"
  }
 },
 "nbformat": 4,
 "nbformat_minor": 5
}
