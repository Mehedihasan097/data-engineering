{
 "cells": [
  {
   "cell_type": "code",
   "execution_count": 1,
   "id": "5a3c4223-2920-4f22-ad0e-0c7d976b79b0",
   "metadata": {},
   "outputs": [],
   "source": [
    "from pyspark.sql import SparkSession\n",
    "from pyspark.sql.functions import col, from_json\n",
    "from pyspark.sql.types import *"
   ]
  },
  {
   "cell_type": "code",
   "execution_count": 2,
   "id": "c1b59cff-0667-4e2d-942e-b5da7707be88",
   "metadata": {},
   "outputs": [],
   "source": [
    "# 1. Create Spark session\n",
    "spark = SparkSession.builder \\\n",
    "    .appName(\"KafkaToDelta\") \\\n",
    "    .master(\"spark://spark-master:7077\") \\\n",
    "    .getOrCreate()"
   ]
  },
  {
   "cell_type": "code",
   "execution_count": 3,
   "id": "23963c30-7512-4f0f-8266-f7e61365078c",
   "metadata": {},
   "outputs": [],
   "source": [
    "# 2. Define the schema for the payload\n",
    "payload_schema = StructType([\n",
    "    StructField(\"ID\", StringType(), False),\n",
    "    StructField(\"SQN\", IntegerType(), True),\n",
    "    StructField(\"APPROVAL_DATETIME\", StringType(), True),\n",
    "    StructField(\"TXN_ID\", StringType(), True),\n",
    "    StructField(\"RESPONSE_CODE\", IntegerType(), True),\n",
    "    StructField(\"STATUS\", IntegerType(), True),\n",
    "    StructField(\"TXN_TYPE\", IntegerType(), True),\n",
    "    StructField(\"TXN_SUB_TYPE\", IntegerType(), True),\n",
    "    StructField(\"PROCESSING_CODE\", IntegerType(), True),\n",
    "    StructField(\"TXN_TYPE_D_C\", IntegerType(), True),\n",
    "    StructField(\"TXN_CAT\", IntegerType(), True),\n",
    "    StructField(\"CHANNEL\", IntegerType(), True),\n",
    "    StructField(\"FROM_ID\", IntegerType(), True),\n",
    "    StructField(\"TARGET_ID\", IntegerType(), True),\n",
    "    StructField(\"TXN_AMT\", DoubleType(), True),\n",
    "    StructField(\"FROM_TRUST_LEVEL\", IntegerType(), True),\n",
    "    StructField(\"TARGET_TRUST_LEVEL\", IntegerType(), True),\n",
    "    StructField(\"FROM_ACCOUNT_TYPE\", IntegerType(), True),\n",
    "    StructField(\"TARGET_ACCOUNT_TYPE\", IntegerType(), True),\n",
    "    StructField(\"pk_id\", IntegerType(), False),\n",
    "    StructField(\"__deleted\", StringType(), True)\n",
    "])"
   ]
  },
  {
   "cell_type": "code",
   "execution_count": 4,
   "id": "dfc4576f-f4a6-4152-ba00-2e671503de06",
   "metadata": {},
   "outputs": [],
   "source": [
    "# 3. Define full envelope schema for Debezium message\n",
    "envelope_schema = StructType([\n",
    "    StructField(\"schema\", StructType(), True),  \n",
    "    StructField(\"payload\", payload_schema)      # actual data\n",
    "])"
   ]
  },
  {
   "cell_type": "code",
   "execution_count": 5,
   "id": "e44101e7-85b0-42ea-907d-4783c4308610",
   "metadata": {},
   "outputs": [],
   "source": [
    "# 4. Read from Kafka topic as streaming source\n",
    "raw_df = spark.readStream \\\n",
    "    .format(\"kafka\") \\\n",
    "    .option(\"kafka.bootstrap.servers\", \"broker:29092\") \\\n",
    "    .option(\"subscribe\", \"postgres_cdc_.public.kafka_sink_data\") \\\n",
    "    .option(\"startingOffsets\", \"earliest\") \\\n",
    "    .load()"
   ]
  },
  {
   "cell_type": "code",
   "execution_count": 6,
   "id": "52a2418e-4165-42d6-93bb-ed6fb7e8fe17",
   "metadata": {},
   "outputs": [],
   "source": [
    "# 5. Extract and parse the JSON string from Kafka 'value'\n",
    "json_df = raw_df.selectExpr(\"CAST(value AS STRING) as json_str\")"
   ]
  },
  {
   "cell_type": "code",
   "execution_count": 7,
   "id": "38a7baf7-eef5-4421-accc-f17d4e1d0a9c",
   "metadata": {},
   "outputs": [],
   "source": [
    "# 6. Parse the JSON and extract only the payload part\n",
    "payload_df = json_df \\\n",
    "    .withColumn(\"data\", from_json(col(\"json_str\"), envelope_schema)) \\\n",
    "    .select(\"data.payload.*\")"
   ]
  },
  {
   "cell_type": "code",
   "execution_count": 8,
   "id": "468de0e6-1258-44ae-ac48-8984f2fbc0d8",
   "metadata": {},
   "outputs": [],
   "source": [
    "# 7. Write parsed payload to Delta (Bronze layer)\n",
    "query = payload_df.writeStream \\\n",
    "    .format(\"delta\") \\\n",
    "    .outputMode(\"append\") \\\n",
    "    .option(\"checkpointLocation\", \"/delta/checkpoints/kafka_sink_data\") \\\n",
    "    .start(\"/delta/bronze/kafka_sink_data\")"
   ]
  },
  {
   "cell_type": "code",
   "execution_count": 9,
   "id": "ddb758af-d832-4631-a59b-7e343679b628",
   "metadata": {},
   "outputs": [],
   "source": [
    "from delta.tables import DeltaTable\n",
    "# Read the bronze Delta table\n",
    "bronze_df = spark.read.format(\"delta\").load(\"/delta/bronze/kafka_sink_data\")"
   ]
  },
  {
   "cell_type": "code",
   "execution_count": 10,
   "id": "a9535418-bca6-41c8-aec9-b8d9423bc3f9",
   "metadata": {},
   "outputs": [
    {
     "name": "stdout",
     "output_type": "stream",
     "text": [
      "+----------------+---+----------------------------+--------+-------------+------+--------+------------+---------------+------------+-------+-------+--------+---------+-------+----------------+------------------+-----------------+-------------------+-------+---------+\n",
      "|ID              |SQN|APPROVAL_DATETIME           |TXN_ID  |RESPONSE_CODE|STATUS|TXN_TYPE|TXN_SUB_TYPE|PROCESSING_CODE|TXN_TYPE_D_C|TXN_CAT|CHANNEL|FROM_ID |TARGET_ID|TXN_AMT|FROM_TRUST_LEVEL|TARGET_TRUST_LEVEL|FROM_ACCOUNT_TYPE|TARGET_ACCOUNT_TYPE|pk_id  |__deleted|\n",
      "+----------------+---+----------------------------+--------+-------------+------+--------+------------+---------------+------------+-------+-------+--------+---------+-------+----------------+------------------+-----------------+-------------------+-------+---------+\n",
      "|2505015300000001|1  |01-MAY-25 12.23.52.564571 AM|E6F889FC|0            |1     |53      |null        |530085         |1           |91     |81     |13285611|null     |16.25  |4               |null              |0                |null               |8851257|false    |\n",
      "|2505015300000002|2  |01-MAY-25 12.23.52.564571 AM|E6F889FC|0            |1     |53      |null        |530085         |2           |92     |77     |210087  |null     |5.33   |1               |null              |85               |null               |8851258|false    |\n",
      "|2505015300000003|3  |01-MAY-25 12.23.52.564571 AM|E6F889FC|0            |1     |53      |null        |530085         |1           |12     |77     |13285611|210087   |1300.0 |4               |1                 |0                |85                 |8851259|false    |\n",
      "|2505015300000004|4  |01-MAY-25 12.23.52.564571 AM|E6F889FC|0            |1     |53      |null        |530085         |2           |12     |77     |210087  |13285611 |1300.0 |1               |4                 |85               |0                  |8851260|false    |\n",
      "|2505015300000005|1  |01-MAY-25 12.09.14.916313 AM|9BFA4EE3|0            |1     |53      |null        |530085         |1           |91     |81     |19457894|null     |36.25  |4               |null              |0                |null               |8851261|false    |\n",
      "|2505015300000006|2  |01-MAY-25 12.09.14.916313 AM|9BFA4EE3|0            |1     |53      |null        |530085         |2           |92     |77     |262846  |null     |11.89  |1               |null              |85               |null               |8851262|false    |\n",
      "|2505015300000007|3  |01-MAY-25 12.09.14.916313 AM|9BFA4EE3|0            |1     |53      |null        |530085         |1           |12     |81     |19457894|262846   |2900.0 |4               |1                 |0                |85                 |8851263|false    |\n",
      "|2505015300000008|4  |01-MAY-25 12.09.14.916313 AM|9BFA4EE3|0            |1     |53      |null        |530085         |2           |12     |81     |262846  |19457894 |2900.0 |1               |4                 |85               |0                  |8851264|false    |\n",
      "|2505015300000009|1  |01-MAY-25 12.12.10.365181 AM|0735AFAE|0            |1     |53      |null        |530085         |1           |91     |77     |13295427|null     |28.75  |4               |null              |0                |null               |8851265|false    |\n",
      "|2505015300000010|2  |01-MAY-25 12.12.10.365181 AM|0735AFAE|0            |1     |53      |null        |530085         |2           |92     |81     |260717  |null     |9.43   |1               |null              |85               |null               |8851266|false    |\n",
      "|2505015300000011|3  |01-MAY-25 12.12.10.365181 AM|0735AFAE|0            |1     |53      |null        |530085         |1           |12     |81     |13295427|260717   |2300.0 |4               |1                 |0                |85                 |8851267|false    |\n",
      "|2505015300000012|4  |01-MAY-25 12.12.10.365181 AM|0735AFAE|0            |1     |53      |null        |530085         |2           |12     |77     |260717  |13295427 |2300.0 |1               |4                 |85               |0                  |8851268|false    |\n",
      "|2505015300000013|1  |01-MAY-25 12.27.03.609432 AM|3FA52DEE|0            |1     |53      |null        |530085         |1           |91     |81     |17804481|null     |8.75   |4               |null              |0                |null               |8851269|false    |\n",
      "|2505015300000014|2  |01-MAY-25 12.27.03.609432 AM|3FA52DEE|0            |1     |53      |null        |530085         |2           |92     |77     |294707  |null     |2.87   |1               |null              |85               |null               |8851270|false    |\n",
      "|2505015300000015|3  |01-MAY-25 12.27.03.609432 AM|3FA52DEE|0            |1     |53      |null        |530085         |1           |12     |77     |17804481|294707   |700.0  |4               |1                 |0                |85                 |8851271|false    |\n",
      "|2505015300000016|4  |01-MAY-25 12.27.03.609432 AM|3FA52DEE|0            |1     |53      |null        |530085         |2           |12     |81     |294707  |17804481 |700.0  |1               |4                 |85               |0                  |8851272|false    |\n",
      "|2505015300000017|1  |01-MAY-25 12.27.19.079924 AM|106D372D|0            |1     |53      |null        |530085         |1           |91     |77     |14845808|null     |2.5    |4               |null              |0                |null               |8851273|false    |\n",
      "|2505015300000018|2  |01-MAY-25 12.27.19.079924 AM|106D372D|0            |1     |53      |null        |530085         |2           |92     |77     |272030  |null     |0.82   |1               |null              |85               |null               |8851274|false    |\n",
      "|2505015300000019|3  |01-MAY-25 12.27.19.079924 AM|106D372D|0            |1     |53      |null        |530085         |1           |12     |81     |14845808|272030   |200.0  |4               |1                 |0                |85                 |8851275|false    |\n",
      "|2505015300000020|4  |01-MAY-25 12.27.19.079924 AM|106D372D|0            |1     |53      |null        |530085         |2           |12     |81     |272030  |14845808 |200.0  |1               |4                 |85               |0                  |8851276|false    |\n",
      "+----------------+---+----------------------------+--------+-------------+------+--------+------------+---------------+------------+-------+-------+--------+---------+-------+----------------+------------------+-----------------+-------------------+-------+---------+\n",
      "only showing top 20 rows\n",
      "\n"
     ]
    }
   ],
   "source": [
    "# Show what got written\n",
    "bronze_df.show(20, truncate=False)"
   ]
  },
  {
   "cell_type": "code",
   "execution_count": null,
   "id": "6dfbc61d-b0e1-4989-a13f-25cebce7ce43",
   "metadata": {},
   "outputs": [],
   "source": []
  }
 ],
 "metadata": {
  "kernelspec": {
   "display_name": "Python 3 (ipykernel)",
   "language": "python",
   "name": "python3"
  },
  "language_info": {
   "codemirror_mode": {
    "name": "ipython",
    "version": 3
   },
   "file_extension": ".py",
   "mimetype": "text/x-python",
   "name": "python",
   "nbconvert_exporter": "python",
   "pygments_lexer": "ipython3",
   "version": "3.11.5"
  }
 },
 "nbformat": 4,
 "nbformat_minor": 5
}
