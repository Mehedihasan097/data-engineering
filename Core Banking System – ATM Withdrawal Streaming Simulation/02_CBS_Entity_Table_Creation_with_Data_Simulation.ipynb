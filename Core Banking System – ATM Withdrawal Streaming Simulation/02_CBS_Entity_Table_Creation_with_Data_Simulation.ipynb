{
 "cells": [
  {
   "cell_type": "code",
   "execution_count": 0,
   "metadata": {
    "application/vnd.databricks.v1+cell": {
     "cellMetadata": {
      "byteLimit": 2048000,
      "rowLimit": 10000
     },
     "inputWidgets": {},
     "nuid": "d95c4971-0468-4556-91d2-05e612a4f6ad",
     "showTitle": false,
     "tableResultSettingsMap": {},
     "title": ""
    }
   },
   "outputs": [],
   "source": [
    "#Step 1: Set Up Required Parameters\n",
    "NUM_CUSTOMER_ACCOUNTS = 500\n",
    "NUM_ATMS = 100\n",
    "CUSTOMER_ID_START = 10000000\n",
    "CUSTOMER_ACCOUNT_ID_START = 100000000\n",
    "ATM_CASH_ACCOUNT_ID_START = 200000000"
   ]
  },
  {
   "cell_type": "code",
   "execution_count": 0,
   "metadata": {
    "application/vnd.databricks.v1+cell": {
     "cellMetadata": {
      "byteLimit": 2048000,
      "rowLimit": 10000
     },
     "inputWidgets": {},
     "nuid": "a4779a59-7d71-4021-8055-8d90962fdbdd",
     "showTitle": false,
     "tableResultSettingsMap": {},
     "title": ""
    }
   },
   "outputs": [],
   "source": [
    "#Step 2: Import Libraries\n",
    "from pyspark.sql.functions import *\n",
    "from pyspark.sql.types import *\n",
    "import random\n",
    "import uuid\n",
    "from datetime import datetime, timedelta"
   ]
  },
  {
   "cell_type": "code",
   "execution_count": 0,
   "metadata": {
    "application/vnd.databricks.v1+cell": {
     "cellMetadata": {
      "byteLimit": 2048000,
      "rowLimit": 10000
     },
     "inputWidgets": {},
     "nuid": "ad9ba167-ef66-4f02-be84-e135b20a75b6",
     "showTitle": false,
     "tableResultSettingsMap": {},
     "title": ""
    }
   },
   "outputs": [],
   "source": [
    "#Create USERS DataFrame\n",
    "users_data = [\n",
    "    (\n",
    "        i,\n",
    "        f\"user_{i}\",\n",
    "        f\"Full Name {i}\",\n",
    "        f\"user{i}@bank.com\",\n",
    "        random.choice([\"Admin\", \"Manager\", \"Clerk\"]),\n",
    "        True,\n",
    "        datetime.now(),\n",
    "        datetime.now()\n",
    "    )\n",
    "    for i in range(1, 21)\n",
    "]\n",
    "\n",
    "users_schema = StructType([\n",
    "    StructField(\"user_id\", LongType(), False),\n",
    "    StructField(\"username\", StringType(), False),\n",
    "    StructField(\"full_name\", StringType(), False),\n",
    "    StructField(\"email\", StringType(), True),\n",
    "    StructField(\"role\", StringType(), True),\n",
    "    StructField(\"is_active\", BooleanType(), False),\n",
    "    StructField(\"created_date\", TimestampType(), False),\n",
    "    StructField(\"last_updated_date\", TimestampType(), False),\n",
    "])\n",
    "\n",
    "users_df = spark.createDataFrame(users_data, schema=users_schema)"
   ]
  },
  {
   "cell_type": "code",
   "execution_count": 0,
   "metadata": {
    "application/vnd.databricks.v1+cell": {
     "cellMetadata": {
      "byteLimit": 2048000,
      "rowLimit": 10000
     },
     "inputWidgets": {},
     "nuid": "b455f789-97f6-45d1-87e4-ea5dd9d70d26",
     "showTitle": false,
     "tableResultSettingsMap": {},
     "title": ""
    }
   },
   "outputs": [],
   "source": [
    "#Create CUSTOMERS DataFrame\n",
    "customers_data = [\n",
    "    (\n",
    "        CUSTOMER_ID_START + i,\n",
    "        str(uuid.uuid4()),\n",
    "        f\"First{i}\",\n",
    "        f\"Last{i}\",\n",
    "        datetime(1980, 1, 1) + timedelta(days=random.randint(0, 15000)),\n",
    "        random.choice([\"Male\", \"Female\"]),\n",
    "        f\"+8801{random.randint(100000000, 999999999)}\",\n",
    "        f\"customer{i}@bank.com\",\n",
    "        f\"Street {i}\",\n",
    "        \"Dhaka\",\n",
    "        \"Bangladesh\",\n",
    "        datetime.now(),\n",
    "        datetime.now()\n",
    "    )\n",
    "    for i in range(NUM_CUSTOMER_ACCOUNTS)\n",
    "]\n",
    "\n",
    "customers_schema = StructType([\n",
    "    StructField(\"customer_id\", LongType(), False),\n",
    "    StructField(\"customer_unique_id\", StringType(), True),\n",
    "    StructField(\"first_name\", StringType(), False),\n",
    "    StructField(\"last_name\", StringType(), False),\n",
    "    StructField(\"date_of_birth\", DateType(), True),\n",
    "    StructField(\"gender\", StringType(), True),\n",
    "    StructField(\"contact_number\", StringType(), True),\n",
    "    StructField(\"email_address\", StringType(), True),\n",
    "    StructField(\"address_line1\", StringType(), True),\n",
    "    StructField(\"city\", StringType(), True),\n",
    "    StructField(\"country\", StringType(), True),\n",
    "    StructField(\"created_date\", TimestampType(), False),\n",
    "    StructField(\"last_updated_date\", TimestampType(), False),\n",
    "])\n",
    "\n",
    "customers_df = spark.createDataFrame(customers_data, schema=customers_schema)"
   ]
  },
  {
   "cell_type": "code",
   "execution_count": 0,
   "metadata": {
    "application/vnd.databricks.v1+cell": {
     "cellMetadata": {
      "byteLimit": 2048000,
      "rowLimit": 10000
     },
     "inputWidgets": {},
     "nuid": "82bcec9f-8b58-4820-b6ff-82a1eea93335",
     "showTitle": false,
     "tableResultSettingsMap": {},
     "title": ""
    }
   },
   "outputs": [],
   "source": [
    "#Create BRANCHES DataFrame\n",
    "from pyspark.sql.functions import col\n",
    "import random\n",
    "from datetime import datetime, timedelta\n",
    "from pyspark.sql.types import (\n",
    "    StructType, StructField, StringType, LongType, DateType, BooleanType, TimestampType\n",
    ")\n",
    "\n",
    "# Create BRANCHES DataFrame\n",
    "users_list = [row.user_id for row in users_df.select(\"user_id\").collect()]\n",
    "\n",
    "branches_data = [\n",
    "    (\n",
    "        f\"B{i:03d}\",\n",
    "        f\"Branch {i}\",\n",
    "        f\"Address Line {i}\",\n",
    "        \"Dhaka\",\n",
    "        \"Bangladesh\",\n",
    "        f\"+8802{random.randint(1000000, 9999999)}\",\n",
    "        random.choice(users_list),\n",
    "        datetime(2000, 1, 1) + timedelta(days=random.randint(0, 8000)),\n",
    "        None,\n",
    "        True,\n",
    "        datetime.now(),\n",
    "        datetime.now()\n",
    "    )\n",
    "    for i in range(1, 11)\n",
    "]\n",
    "\n",
    "branches_schema = StructType([\n",
    "    StructField(\"branch_id\", StringType(), False),\n",
    "    StructField(\"branch_name\", StringType(), False),\n",
    "    StructField(\"address\", StringType(), True),\n",
    "    StructField(\"city\", StringType(), True),\n",
    "    StructField(\"country\", StringType(), True),\n",
    "    StructField(\"contact_number\", StringType(), True),\n",
    "    StructField(\"manager_user_id\", LongType(), True),\n",
    "    StructField(\"opening_date\", DateType(), True),\n",
    "    StructField(\"closing_date\", DateType(), True),\n",
    "    StructField(\"is_active\", BooleanType(), False),\n",
    "    StructField(\"created_date\", TimestampType(), False),\n",
    "    StructField(\"last_updated_date\", TimestampType(), False),\n",
    "])\n",
    "\n",
    "branches_df = spark.createDataFrame(branches_data, schema=branches_schema)\n"
   ]
  },
  {
   "cell_type": "code",
   "execution_count": 0,
   "metadata": {
    "application/vnd.databricks.v1+cell": {
     "cellMetadata": {
      "byteLimit": 2048000,
      "rowLimit": 10000
     },
     "inputWidgets": {},
     "nuid": "a6eae37b-1400-41c4-a213-bffa14eebd72",
     "showTitle": false,
     "tableResultSettingsMap": {},
     "title": ""
    }
   },
   "outputs": [],
   "source": [
    "# Setup\n",
    "currencies = [\"BDT\", \"USD\"]\n",
    "account_types = [\"Savings\", \"Checking\"]\n",
    "account_statuses = [\"Active\", \"Dormant\", \"Closed\"]\n",
    "\n",
    "# GL Code Mapping\n",
    "gl_code_map = {\n",
    "    \"Savings\": \"101001\",\n",
    "    \"Checking\": \"101002\",\n",
    "    \"ATM\": \"102001\"  # ATM-specific GL account code\n",
    "}\n",
    "\n",
    "# Parameters for customers and ATMs\n",
    "NUM_CUSTOMER_ACCOUNTS = 500\n",
    "CUSTOMER_ID_START = 10000000\n",
    "CUSTOMER_ACCOUNT_ID_START = 100000000\n",
    "\n",
    "NUM_ATMS = 100\n",
    "ATM_CASH_ACCOUNT_ID_START = 200000000\n",
    "\n",
    "# Generate customer IDs\n",
    "customer_id_list = list(range(CUSTOMER_ID_START, CUSTOMER_ID_START + NUM_CUSTOMER_ACCOUNTS))\n",
    "\n",
    "# Generate Customer Accounts\n",
    "customer_accounts_data = [\n",
    "    (\n",
    "        CUSTOMER_ACCOUNT_ID_START + i,\n",
    "        f\"ACCT{i:08d}\",\n",
    "        customer_id_list[i % len(customer_id_list)],\n",
    "        account_type := random.choice(account_types),\n",
    "        currency := random.choice(currencies),\n",
    "        balance := random.randint(500, 100000),\n",
    "        open_date := datetime(2015, 1, 1) + timedelta(days=random.randint(0, 3000)),\n",
    "        close_date := None,\n",
    "        status := random.choice(account_statuses),\n",
    "        gl_account_code := gl_code_map[account_type],\n",
    "        created := datetime.now(),\n",
    "        created\n",
    "    )\n",
    "    for i in range(NUM_CUSTOMER_ACCOUNTS)\n",
    "]\n",
    "\n",
    "# Generate ATM Accounts\n",
    "atm_accounts_data = [\n",
    "    (\n",
    "        ATM_CASH_ACCOUNT_ID_START + i,\n",
    "        f\"ATM_ACCT{i:08d}\",\n",
    "        None,  # No customer_id for ATM\n",
    "        \"ATM\",\n",
    "        \"BDT\",  # Assuming ATM cash account uses BDT\n",
    "        balance := random.randint(100000, 1000000),\n",
    "        open_date := datetime(2015, 1, 1) + timedelta(days=random.randint(0, 3000)),\n",
    "        close_date := None,\n",
    "        \"Active\",\n",
    "        gl_code_map[\"ATM\"],\n",
    "        created := datetime.now(),\n",
    "        created\n",
    "    )\n",
    "    for i in range(NUM_ATMS)\n",
    "]\n",
    "\n",
    "# Merge both datasets\n",
    "accounts_data = customer_accounts_data + atm_accounts_data\n",
    "\n",
    "# Define schema\n",
    "accounts_schema = StructType([\n",
    "    StructField(\"account_id\", LongType(), False),\n",
    "    StructField(\"account_number\", StringType(), False),\n",
    "    StructField(\"customer_id\", LongType(), True),\n",
    "    StructField(\"account_type\", StringType(), False),\n",
    "    StructField(\"currency_code\", StringType(), False),\n",
    "    StructField(\"current_balance\", IntegerType(), False),\n",
    "    StructField(\"opening_date\", DateType(), False),\n",
    "    StructField(\"closing_date\", DateType(), True),\n",
    "    StructField(\"account_status\", StringType(), False),\n",
    "    StructField(\"gl_account_code\", StringType(), False),\n",
    "    StructField(\"created_date\", TimestampType(), False),\n",
    "    StructField(\"last_updated_date\", TimestampType(), False),\n",
    "])\n",
    "\n",
    "# Create DataFrame\n",
    "accounts_df = spark.createDataFrame(accounts_data, schema=accounts_schema)"
   ]
  },
  {
   "cell_type": "code",
   "execution_count": 0,
   "metadata": {
    "application/vnd.databricks.v1+cell": {
     "cellMetadata": {
      "byteLimit": 2048000,
      "rowLimit": 10000
     },
     "inputWidgets": {},
     "nuid": "d81d9c6b-ff0d-4123-8031-4b8e71738b54",
     "showTitle": false,
     "tableResultSettingsMap": {},
     "title": ""
    }
   },
   "outputs": [],
   "source": [
    "# Create ACCOUNTS DataFrame\n",
    "currencies = [\"BDT\", \"USD\"]\n",
    "account_types = [\"Savings\", \"Checking\"]\n",
    "account_statuses = [\"Active\", \"Dormant\", \"Closed\"]\n",
    "gl_codes = [\"GL100\", \"GL200\", \"GL300\"]\n",
    "\n",
    "# Let's assume you already have customer_id_list, else create dummy\n",
    "customer_id_list = list(range(10000001, 10000001 + 500))  # Example 500 customer IDs\n",
    "\n",
    "accounts_data = [\n",
    "    (\n",
    "        CUSTOMER_ACCOUNT_ID_START + i,\n",
    "        f\"ACCT{i:08d}\",\n",
    "        customer_id_list[i % len(customer_id_list)],\n",
    "        random.choice(account_types),\n",
    "        random.choice(currencies),\n",
    "        random.randint(500, 100000),\n",
    "        datetime(2015, 1, 1) + timedelta(days=random.randint(0, 3000)),\n",
    "        None,\n",
    "        random.choice(account_statuses),\n",
    "        random.choice(gl_codes),\n",
    "        datetime.now(),\n",
    "        datetime.now()\n",
    "    )\n",
    "    for i in range(NUM_CUSTOMER_ACCOUNTS)\n",
    "]\n",
    "\n",
    "accounts_schema = StructType([\n",
    "    StructField(\"account_id\", LongType(), False),\n",
    "    StructField(\"account_number\", StringType(), False),\n",
    "    StructField(\"customer_id\", LongType(), True),\n",
    "    StructField(\"account_type\", StringType(), False),\n",
    "    StructField(\"currency_code\", StringType(), False),\n",
    "    StructField(\"current_balance\", IntegerType(), False),\n",
    "    StructField(\"opening_date\", DateType(), False),\n",
    "    StructField(\"closing_date\", DateType(), True),\n",
    "    StructField(\"account_status\", StringType(), False),\n",
    "    StructField(\"gl_account_code\", StringType(), False),\n",
    "    StructField(\"created_date\", TimestampType(), False),\n",
    "    StructField(\"last_updated_date\", TimestampType(), False),\n",
    "])\n",
    "\n",
    "accounts_df = spark.createDataFrame(accounts_data, schema=accounts_schema)\n"
   ]
  },
  {
   "cell_type": "code",
   "execution_count": 0,
   "metadata": {
    "application/vnd.databricks.v1+cell": {
     "cellMetadata": {
      "byteLimit": 2048000,
      "rowLimit": 10000
     },
     "inputWidgets": {},
     "nuid": "76f61251-ef62-4b12-ad93-1b192dde9e4c",
     "showTitle": false,
     "tableResultSettingsMap": {},
     "title": ""
    }
   },
   "outputs": [],
   "source": [
    "atm_statuses = [\"Operational\", \"Maintenance\"]\n",
    "atm_types = [\"Indoor\", \"Outdoor\"]\n",
    "\n",
    "# Assuming branches_df is already defined and available\n",
    "branch_ids = [row['branch_id'] for row in branches_df.select(\"branch_id\").collect()]\n",
    "\n",
    "NUM_ATMS = 100  # Define the number of ATMs\n",
    "ATM_CASH_ACCOUNT_ID_START = 200000000  # Define the starting cash account ID\n",
    "\n",
    "atm_data = [\n",
    "    Row(\n",
    "        atm_id=f\"ATM{i:03d}\",\n",
    "        location_name=f\"ATM Location {i}\",\n",
    "        address=f\"ATM Street {i}\",\n",
    "        city=\"Dhaka\",\n",
    "        country=\"Bangladesh\",\n",
    "        atm_type=random.choice(atm_types),\n",
    "        atm_status=random.choice(atm_statuses),\n",
    "        cash_gl_account_id=ATM_CASH_ACCOUNT_ID_START + i,\n",
    "        branch_id=random.choice(branch_ids),\n",
    "        last_maintenance_date=datetime.now() - timedelta(days=random.randint(10, 500)),\n",
    "        created_date=datetime.now(),\n",
    "        last_updated_date=datetime.now()\n",
    "    )\n",
    "    for i in range(NUM_ATMS)\n",
    "]\n",
    "\n",
    "atm_schema = StructType([\n",
    "    StructField(\"atm_id\", StringType(), False),\n",
    "    StructField(\"location_name\", StringType(), False),\n",
    "    StructField(\"address\", StringType(), True),\n",
    "    StructField(\"city\", StringType(), True),\n",
    "    StructField(\"country\", StringType(), True),\n",
    "    StructField(\"atm_type\", StringType(), True),\n",
    "    StructField(\"atm_status\", StringType(), False),\n",
    "    StructField(\"cash_gl_account_id\", LongType(), False),\n",
    "    StructField(\"branch_id\", StringType(), True),\n",
    "    StructField(\"last_maintenance_date\", TimestampType(), True),\n",
    "    StructField(\"created_date\", TimestampType(), False),\n",
    "    StructField(\"last_updated_date\", TimestampType(), False),\n",
    "])\n",
    "\n",
    "atms_df = spark.createDataFrame(atm_data, schema=atm_schema)\n"
   ]
  },
  {
   "cell_type": "code",
   "execution_count": 0,
   "metadata": {
    "application/vnd.databricks.v1+cell": {
     "cellMetadata": {
      "byteLimit": 2048000,
      "rowLimit": 10000
     },
     "inputWidgets": {},
     "nuid": "eba5846b-a9a7-49d1-9ef7-50f0b81b23de",
     "showTitle": false,
     "tableResultSettingsMap": {},
     "title": ""
    }
   },
   "outputs": [
    {
     "output_type": "display_data",
     "data": {
      "text/html": [
       "<style scoped>\n",
       "  .table-result-container {\n",
       "    max-height: 300px;\n",
       "    overflow: auto;\n",
       "  }\n",
       "  table, th, td {\n",
       "    border: 1px solid black;\n",
       "    border-collapse: collapse;\n",
       "  }\n",
       "  th, td {\n",
       "    padding: 5px;\n",
       "  }\n",
       "  th {\n",
       "    text-align: left;\n",
       "  }\n",
       "</style><div class='table-result-container'><table class='table-result'><thead style='background-color: white'><tr><th>user_id</th><th>username</th><th>full_name</th><th>email</th><th>role</th><th>is_active</th><th>created_date</th><th>last_updated_date</th></tr></thead><tbody><tr><td>1</td><td>user_1</td><td>Full Name 1</td><td>user1@bank.com</td><td>Manager</td><td>true</td><td>2025-07-23T16:30:13.271Z</td><td>2025-07-23T16:30:13.271Z</td></tr><tr><td>2</td><td>user_2</td><td>Full Name 2</td><td>user2@bank.com</td><td>Clerk</td><td>true</td><td>2025-07-23T16:30:13.271Z</td><td>2025-07-23T16:30:13.271Z</td></tr><tr><td>3</td><td>user_3</td><td>Full Name 3</td><td>user3@bank.com</td><td>Clerk</td><td>true</td><td>2025-07-23T16:30:13.271Z</td><td>2025-07-23T16:30:13.271Z</td></tr><tr><td>4</td><td>user_4</td><td>Full Name 4</td><td>user4@bank.com</td><td>Clerk</td><td>true</td><td>2025-07-23T16:30:13.271Z</td><td>2025-07-23T16:30:13.271Z</td></tr><tr><td>5</td><td>user_5</td><td>Full Name 5</td><td>user5@bank.com</td><td>Clerk</td><td>true</td><td>2025-07-23T16:30:13.271Z</td><td>2025-07-23T16:30:13.271Z</td></tr></tbody></table></div>"
      ]
     },
     "metadata": {
      "application/vnd.databricks.v1+output": {
       "addedWidgets": {},
       "aggData": [],
       "aggError": "",
       "aggOverflow": false,
       "aggSchema": [],
       "aggSeriesLimitReached": false,
       "aggType": "",
       "arguments": {},
       "columnCustomDisplayInfos": {},
       "data": [
        [
         1,
         "user_1",
         "Full Name 1",
         "user1@bank.com",
         "Manager",
         true,
         "2025-07-23T16:30:13.271Z",
         "2025-07-23T16:30:13.271Z"
        ],
        [
         2,
         "user_2",
         "Full Name 2",
         "user2@bank.com",
         "Clerk",
         true,
         "2025-07-23T16:30:13.271Z",
         "2025-07-23T16:30:13.271Z"
        ],
        [
         3,
         "user_3",
         "Full Name 3",
         "user3@bank.com",
         "Clerk",
         true,
         "2025-07-23T16:30:13.271Z",
         "2025-07-23T16:30:13.271Z"
        ],
        [
         4,
         "user_4",
         "Full Name 4",
         "user4@bank.com",
         "Clerk",
         true,
         "2025-07-23T16:30:13.271Z",
         "2025-07-23T16:30:13.271Z"
        ],
        [
         5,
         "user_5",
         "Full Name 5",
         "user5@bank.com",
         "Clerk",
         true,
         "2025-07-23T16:30:13.271Z",
         "2025-07-23T16:30:13.271Z"
        ]
       ],
       "datasetInfos": [],
       "dbfsResultPath": null,
       "isJsonSchema": true,
       "metadata": {},
       "overflow": false,
       "plotOptions": {
        "customPlotOptions": {},
        "displayType": "table",
        "pivotAggregation": null,
        "pivotColumns": null,
        "xColumns": null,
        "yColumns": null
       },
       "removedWidgets": [],
       "schema": [
        {
         "metadata": "{}",
         "name": "user_id",
         "type": "\"long\""
        },
        {
         "metadata": "{}",
         "name": "username",
         "type": "\"string\""
        },
        {
         "metadata": "{}",
         "name": "full_name",
         "type": "\"string\""
        },
        {
         "metadata": "{}",
         "name": "email",
         "type": "\"string\""
        },
        {
         "metadata": "{}",
         "name": "role",
         "type": "\"string\""
        },
        {
         "metadata": "{}",
         "name": "is_active",
         "type": "\"boolean\""
        },
        {
         "metadata": "{}",
         "name": "created_date",
         "type": "\"timestamp\""
        },
        {
         "metadata": "{}",
         "name": "last_updated_date",
         "type": "\"timestamp\""
        }
       ],
       "type": "table"
      }
     },
     "output_type": "display_data"
    },
    {
     "output_type": "display_data",
     "data": {
      "text/html": [
       "<style scoped>\n",
       "  .table-result-container {\n",
       "    max-height: 300px;\n",
       "    overflow: auto;\n",
       "  }\n",
       "  table, th, td {\n",
       "    border: 1px solid black;\n",
       "    border-collapse: collapse;\n",
       "  }\n",
       "  th, td {\n",
       "    padding: 5px;\n",
       "  }\n",
       "  th {\n",
       "    text-align: left;\n",
       "  }\n",
       "</style><div class='table-result-container'><table class='table-result'><thead style='background-color: white'><tr><th>customer_id</th><th>customer_unique_id</th><th>first_name</th><th>last_name</th><th>date_of_birth</th><th>gender</th><th>contact_number</th><th>email_address</th><th>address_line1</th><th>city</th><th>country</th><th>created_date</th><th>last_updated_date</th></tr></thead><tbody><tr><td>10000000</td><td>6705a116-90ab-4aea-bdfb-e37e48adc2d0</td><td>First0</td><td>Last0</td><td>2012-02-25</td><td>Male</td><td>+8801667113320</td><td>customer0@bank.com</td><td>Street 0</td><td>Dhaka</td><td>Bangladesh</td><td>2025-07-23T16:30:18.307Z</td><td>2025-07-23T16:30:18.307Z</td></tr><tr><td>10000001</td><td>b593cb11-9caf-4bae-ad36-82ca3a199fdc</td><td>First1</td><td>Last1</td><td>1985-01-27</td><td>Male</td><td>+8801480404228</td><td>customer1@bank.com</td><td>Street 1</td><td>Dhaka</td><td>Bangladesh</td><td>2025-07-23T16:30:18.307Z</td><td>2025-07-23T16:30:18.307Z</td></tr><tr><td>10000002</td><td>03dbbfbf-6cbf-4d4d-88e5-bd9fd3d1152e</td><td>First2</td><td>Last2</td><td>1980-02-23</td><td>Male</td><td>+8801785758969</td><td>customer2@bank.com</td><td>Street 2</td><td>Dhaka</td><td>Bangladesh</td><td>2025-07-23T16:30:18.307Z</td><td>2025-07-23T16:30:18.307Z</td></tr><tr><td>10000003</td><td>cf1dc2d9-dfb6-4bfe-a2cd-6a7425c64be1</td><td>First3</td><td>Last3</td><td>2010-02-20</td><td>Female</td><td>+8801374799494</td><td>customer3@bank.com</td><td>Street 3</td><td>Dhaka</td><td>Bangladesh</td><td>2025-07-23T16:30:18.307Z</td><td>2025-07-23T16:30:18.307Z</td></tr><tr><td>10000004</td><td>8bca6f40-f8d8-4673-9d14-227702af708f</td><td>First4</td><td>Last4</td><td>1991-12-28</td><td>Male</td><td>+8801801245974</td><td>customer4@bank.com</td><td>Street 4</td><td>Dhaka</td><td>Bangladesh</td><td>2025-07-23T16:30:18.307Z</td><td>2025-07-23T16:30:18.307Z</td></tr></tbody></table></div>"
      ]
     },
     "metadata": {
      "application/vnd.databricks.v1+output": {
       "addedWidgets": {},
       "aggData": [],
       "aggError": "",
       "aggOverflow": false,
       "aggSchema": [],
       "aggSeriesLimitReached": false,
       "aggType": "",
       "arguments": {},
       "columnCustomDisplayInfos": {},
       "data": [
        [
         10000000,
         "6705a116-90ab-4aea-bdfb-e37e48adc2d0",
         "First0",
         "Last0",
         "2012-02-25",
         "Male",
         "+8801667113320",
         "customer0@bank.com",
         "Street 0",
         "Dhaka",
         "Bangladesh",
         "2025-07-23T16:30:18.307Z",
         "2025-07-23T16:30:18.307Z"
        ],
        [
         10000001,
         "b593cb11-9caf-4bae-ad36-82ca3a199fdc",
         "First1",
         "Last1",
         "1985-01-27",
         "Male",
         "+8801480404228",
         "customer1@bank.com",
         "Street 1",
         "Dhaka",
         "Bangladesh",
         "2025-07-23T16:30:18.307Z",
         "2025-07-23T16:30:18.307Z"
        ],
        [
         10000002,
         "03dbbfbf-6cbf-4d4d-88e5-bd9fd3d1152e",
         "First2",
         "Last2",
         "1980-02-23",
         "Male",
         "+8801785758969",
         "customer2@bank.com",
         "Street 2",
         "Dhaka",
         "Bangladesh",
         "2025-07-23T16:30:18.307Z",
         "2025-07-23T16:30:18.307Z"
        ],
        [
         10000003,
         "cf1dc2d9-dfb6-4bfe-a2cd-6a7425c64be1",
         "First3",
         "Last3",
         "2010-02-20",
         "Female",
         "+8801374799494",
         "customer3@bank.com",
         "Street 3",
         "Dhaka",
         "Bangladesh",
         "2025-07-23T16:30:18.307Z",
         "2025-07-23T16:30:18.307Z"
        ],
        [
         10000004,
         "8bca6f40-f8d8-4673-9d14-227702af708f",
         "First4",
         "Last4",
         "1991-12-28",
         "Male",
         "+8801801245974",
         "customer4@bank.com",
         "Street 4",
         "Dhaka",
         "Bangladesh",
         "2025-07-23T16:30:18.307Z",
         "2025-07-23T16:30:18.307Z"
        ]
       ],
       "datasetInfos": [],
       "dbfsResultPath": null,
       "isJsonSchema": true,
       "metadata": {},
       "overflow": false,
       "plotOptions": {
        "customPlotOptions": {},
        "displayType": "table",
        "pivotAggregation": null,
        "pivotColumns": null,
        "xColumns": null,
        "yColumns": null
       },
       "removedWidgets": [],
       "schema": [
        {
         "metadata": "{}",
         "name": "customer_id",
         "type": "\"long\""
        },
        {
         "metadata": "{}",
         "name": "customer_unique_id",
         "type": "\"string\""
        },
        {
         "metadata": "{}",
         "name": "first_name",
         "type": "\"string\""
        },
        {
         "metadata": "{}",
         "name": "last_name",
         "type": "\"string\""
        },
        {
         "metadata": "{}",
         "name": "date_of_birth",
         "type": "\"date\""
        },
        {
         "metadata": "{}",
         "name": "gender",
         "type": "\"string\""
        },
        {
         "metadata": "{}",
         "name": "contact_number",
         "type": "\"string\""
        },
        {
         "metadata": "{}",
         "name": "email_address",
         "type": "\"string\""
        },
        {
         "metadata": "{}",
         "name": "address_line1",
         "type": "\"string\""
        },
        {
         "metadata": "{}",
         "name": "city",
         "type": "\"string\""
        },
        {
         "metadata": "{}",
         "name": "country",
         "type": "\"string\""
        },
        {
         "metadata": "{}",
         "name": "created_date",
         "type": "\"timestamp\""
        },
        {
         "metadata": "{}",
         "name": "last_updated_date",
         "type": "\"timestamp\""
        }
       ],
       "type": "table"
      }
     },
     "output_type": "display_data"
    },
    {
     "output_type": "display_data",
     "data": {
      "text/html": [
       "<style scoped>\n",
       "  .table-result-container {\n",
       "    max-height: 300px;\n",
       "    overflow: auto;\n",
       "  }\n",
       "  table, th, td {\n",
       "    border: 1px solid black;\n",
       "    border-collapse: collapse;\n",
       "  }\n",
       "  th, td {\n",
       "    padding: 5px;\n",
       "  }\n",
       "  th {\n",
       "    text-align: left;\n",
       "  }\n",
       "</style><div class='table-result-container'><table class='table-result'><thead style='background-color: white'><tr><th>branch_id</th><th>branch_name</th><th>address</th><th>city</th><th>country</th><th>contact_number</th><th>manager_user_id</th><th>opening_date</th><th>closing_date</th><th>is_active</th><th>created_date</th><th>last_updated_date</th></tr></thead><tbody><tr><td>B001</td><td>Branch 1</td><td>Address Line 1</td><td>Dhaka</td><td>Bangladesh</td><td>+88022046523</td><td>13</td><td>2021-05-10</td><td>null</td><td>true</td><td>2025-07-23T16:30:45.087Z</td><td>2025-07-23T16:30:45.087Z</td></tr><tr><td>B002</td><td>Branch 2</td><td>Address Line 2</td><td>Dhaka</td><td>Bangladesh</td><td>+88026419769</td><td>10</td><td>2009-07-02</td><td>null</td><td>true</td><td>2025-07-23T16:30:45.087Z</td><td>2025-07-23T16:30:45.087Z</td></tr><tr><td>B003</td><td>Branch 3</td><td>Address Line 3</td><td>Dhaka</td><td>Bangladesh</td><td>+88024007428</td><td>19</td><td>2014-10-14</td><td>null</td><td>true</td><td>2025-07-23T16:30:45.087Z</td><td>2025-07-23T16:30:45.087Z</td></tr><tr><td>B004</td><td>Branch 4</td><td>Address Line 4</td><td>Dhaka</td><td>Bangladesh</td><td>+88025205974</td><td>9</td><td>2001-04-18</td><td>null</td><td>true</td><td>2025-07-23T16:30:45.087Z</td><td>2025-07-23T16:30:45.087Z</td></tr><tr><td>B005</td><td>Branch 5</td><td>Address Line 5</td><td>Dhaka</td><td>Bangladesh</td><td>+88023988158</td><td>6</td><td>2003-02-20</td><td>null</td><td>true</td><td>2025-07-23T16:30:45.087Z</td><td>2025-07-23T16:30:45.087Z</td></tr></tbody></table></div>"
      ]
     },
     "metadata": {
      "application/vnd.databricks.v1+output": {
       "addedWidgets": {},
       "aggData": [],
       "aggError": "",
       "aggOverflow": false,
       "aggSchema": [],
       "aggSeriesLimitReached": false,
       "aggType": "",
       "arguments": {},
       "columnCustomDisplayInfos": {},
       "data": [
        [
         "B001",
         "Branch 1",
         "Address Line 1",
         "Dhaka",
         "Bangladesh",
         "+88022046523",
         13,
         "2021-05-10",
         null,
         true,
         "2025-07-23T16:30:45.087Z",
         "2025-07-23T16:30:45.087Z"
        ],
        [
         "B002",
         "Branch 2",
         "Address Line 2",
         "Dhaka",
         "Bangladesh",
         "+88026419769",
         10,
         "2009-07-02",
         null,
         true,
         "2025-07-23T16:30:45.087Z",
         "2025-07-23T16:30:45.087Z"
        ],
        [
         "B003",
         "Branch 3",
         "Address Line 3",
         "Dhaka",
         "Bangladesh",
         "+88024007428",
         19,
         "2014-10-14",
         null,
         true,
         "2025-07-23T16:30:45.087Z",
         "2025-07-23T16:30:45.087Z"
        ],
        [
         "B004",
         "Branch 4",
         "Address Line 4",
         "Dhaka",
         "Bangladesh",
         "+88025205974",
         9,
         "2001-04-18",
         null,
         true,
         "2025-07-23T16:30:45.087Z",
         "2025-07-23T16:30:45.087Z"
        ],
        [
         "B005",
         "Branch 5",
         "Address Line 5",
         "Dhaka",
         "Bangladesh",
         "+88023988158",
         6,
         "2003-02-20",
         null,
         true,
         "2025-07-23T16:30:45.087Z",
         "2025-07-23T16:30:45.087Z"
        ]
       ],
       "datasetInfos": [],
       "dbfsResultPath": null,
       "isJsonSchema": true,
       "metadata": {},
       "overflow": false,
       "plotOptions": {
        "customPlotOptions": {},
        "displayType": "table",
        "pivotAggregation": null,
        "pivotColumns": null,
        "xColumns": null,
        "yColumns": null
       },
       "removedWidgets": [],
       "schema": [
        {
         "metadata": "{}",
         "name": "branch_id",
         "type": "\"string\""
        },
        {
         "metadata": "{}",
         "name": "branch_name",
         "type": "\"string\""
        },
        {
         "metadata": "{}",
         "name": "address",
         "type": "\"string\""
        },
        {
         "metadata": "{}",
         "name": "city",
         "type": "\"string\""
        },
        {
         "metadata": "{}",
         "name": "country",
         "type": "\"string\""
        },
        {
         "metadata": "{}",
         "name": "contact_number",
         "type": "\"string\""
        },
        {
         "metadata": "{}",
         "name": "manager_user_id",
         "type": "\"long\""
        },
        {
         "metadata": "{}",
         "name": "opening_date",
         "type": "\"date\""
        },
        {
         "metadata": "{}",
         "name": "closing_date",
         "type": "\"date\""
        },
        {
         "metadata": "{}",
         "name": "is_active",
         "type": "\"boolean\""
        },
        {
         "metadata": "{}",
         "name": "created_date",
         "type": "\"timestamp\""
        },
        {
         "metadata": "{}",
         "name": "last_updated_date",
         "type": "\"timestamp\""
        }
       ],
       "type": "table"
      }
     },
     "output_type": "display_data"
    },
    {
     "output_type": "display_data",
     "data": {
      "text/html": [
       "<style scoped>\n",
       "  .table-result-container {\n",
       "    max-height: 300px;\n",
       "    overflow: auto;\n",
       "  }\n",
       "  table, th, td {\n",
       "    border: 1px solid black;\n",
       "    border-collapse: collapse;\n",
       "  }\n",
       "  th, td {\n",
       "    padding: 5px;\n",
       "  }\n",
       "  th {\n",
       "    text-align: left;\n",
       "  }\n",
       "</style><div class='table-result-container'><table class='table-result'><thead style='background-color: white'><tr><th>account_id</th><th>account_number</th><th>customer_id</th><th>account_type</th><th>currency_code</th><th>current_balance</th><th>opening_date</th><th>closing_date</th><th>account_status</th><th>gl_account_code</th><th>created_date</th><th>last_updated_date</th></tr></thead><tbody><tr><td>100000000</td><td>ACCT00000000</td><td>10000001</td><td>Savings</td><td>BDT</td><td>53004</td><td>2017-01-28</td><td>null</td><td>Active</td><td>GL200</td><td>2025-07-23T16:31:40.825Z</td><td>2025-07-23T16:31:40.825Z</td></tr><tr><td>100000001</td><td>ACCT00000001</td><td>10000002</td><td>Checking</td><td>USD</td><td>88282</td><td>2019-09-12</td><td>null</td><td>Closed</td><td>GL100</td><td>2025-07-23T16:31:40.825Z</td><td>2025-07-23T16:31:40.825Z</td></tr><tr><td>100000002</td><td>ACCT00000002</td><td>10000003</td><td>Checking</td><td>BDT</td><td>44311</td><td>2019-08-07</td><td>null</td><td>Active</td><td>GL200</td><td>2025-07-23T16:31:40.825Z</td><td>2025-07-23T16:31:40.825Z</td></tr><tr><td>100000003</td><td>ACCT00000003</td><td>10000004</td><td>Savings</td><td>BDT</td><td>33887</td><td>2020-12-13</td><td>null</td><td>Closed</td><td>GL200</td><td>2025-07-23T16:31:40.825Z</td><td>2025-07-23T16:31:40.825Z</td></tr><tr><td>100000004</td><td>ACCT00000004</td><td>10000005</td><td>Savings</td><td>USD</td><td>98866</td><td>2019-03-22</td><td>null</td><td>Closed</td><td>GL300</td><td>2025-07-23T16:31:40.825Z</td><td>2025-07-23T16:31:40.825Z</td></tr></tbody></table></div>"
      ]
     },
     "metadata": {
      "application/vnd.databricks.v1+output": {
       "addedWidgets": {},
       "aggData": [],
       "aggError": "",
       "aggOverflow": false,
       "aggSchema": [],
       "aggSeriesLimitReached": false,
       "aggType": "",
       "arguments": {},
       "columnCustomDisplayInfos": {},
       "data": [
        [
         100000000,
         "ACCT00000000",
         10000001,
         "Savings",
         "BDT",
         53004,
         "2017-01-28",
         null,
         "Active",
         "GL200",
         "2025-07-23T16:31:40.825Z",
         "2025-07-23T16:31:40.825Z"
        ],
        [
         100000001,
         "ACCT00000001",
         10000002,
         "Checking",
         "USD",
         88282,
         "2019-09-12",
         null,
         "Closed",
         "GL100",
         "2025-07-23T16:31:40.825Z",
         "2025-07-23T16:31:40.825Z"
        ],
        [
         100000002,
         "ACCT00000002",
         10000003,
         "Checking",
         "BDT",
         44311,
         "2019-08-07",
         null,
         "Active",
         "GL200",
         "2025-07-23T16:31:40.825Z",
         "2025-07-23T16:31:40.825Z"
        ],
        [
         100000003,
         "ACCT00000003",
         10000004,
         "Savings",
         "BDT",
         33887,
         "2020-12-13",
         null,
         "Closed",
         "GL200",
         "2025-07-23T16:31:40.825Z",
         "2025-07-23T16:31:40.825Z"
        ],
        [
         100000004,
         "ACCT00000004",
         10000005,
         "Savings",
         "USD",
         98866,
         "2019-03-22",
         null,
         "Closed",
         "GL300",
         "2025-07-23T16:31:40.825Z",
         "2025-07-23T16:31:40.825Z"
        ]
       ],
       "datasetInfos": [],
       "dbfsResultPath": null,
       "isJsonSchema": true,
       "metadata": {},
       "overflow": false,
       "plotOptions": {
        "customPlotOptions": {},
        "displayType": "table",
        "pivotAggregation": null,
        "pivotColumns": null,
        "xColumns": null,
        "yColumns": null
       },
       "removedWidgets": [],
       "schema": [
        {
         "metadata": "{}",
         "name": "account_id",
         "type": "\"long\""
        },
        {
         "metadata": "{}",
         "name": "account_number",
         "type": "\"string\""
        },
        {
         "metadata": "{}",
         "name": "customer_id",
         "type": "\"long\""
        },
        {
         "metadata": "{}",
         "name": "account_type",
         "type": "\"string\""
        },
        {
         "metadata": "{}",
         "name": "currency_code",
         "type": "\"string\""
        },
        {
         "metadata": "{}",
         "name": "current_balance",
         "type": "\"integer\""
        },
        {
         "metadata": "{}",
         "name": "opening_date",
         "type": "\"date\""
        },
        {
         "metadata": "{}",
         "name": "closing_date",
         "type": "\"date\""
        },
        {
         "metadata": "{}",
         "name": "account_status",
         "type": "\"string\""
        },
        {
         "metadata": "{}",
         "name": "gl_account_code",
         "type": "\"string\""
        },
        {
         "metadata": "{}",
         "name": "created_date",
         "type": "\"timestamp\""
        },
        {
         "metadata": "{}",
         "name": "last_updated_date",
         "type": "\"timestamp\""
        }
       ],
       "type": "table"
      }
     },
     "output_type": "display_data"
    },
    {
     "output_type": "display_data",
     "data": {
      "text/html": [
       "<style scoped>\n",
       "  .table-result-container {\n",
       "    max-height: 300px;\n",
       "    overflow: auto;\n",
       "  }\n",
       "  table, th, td {\n",
       "    border: 1px solid black;\n",
       "    border-collapse: collapse;\n",
       "  }\n",
       "  th, td {\n",
       "    padding: 5px;\n",
       "  }\n",
       "  th {\n",
       "    text-align: left;\n",
       "  }\n",
       "</style><div class='table-result-container'><table class='table-result'><thead style='background-color: white'><tr><th>atm_id</th><th>location_name</th><th>address</th><th>city</th><th>country</th><th>atm_type</th><th>atm_status</th><th>cash_gl_account_id</th><th>branch_id</th><th>last_maintenance_date</th><th>created_date</th><th>last_updated_date</th></tr></thead><tbody><tr><td>ATM000</td><td>ATM Location 0</td><td>ATM Street 0</td><td>Dhaka</td><td>Bangladesh</td><td>Indoor</td><td>Maintenance</td><td>200000000</td><td>B008</td><td>2024-08-25T16:31:47.388Z</td><td>2025-07-23T16:31:47.388Z</td><td>2025-07-23T16:31:47.388Z</td></tr><tr><td>ATM001</td><td>ATM Location 1</td><td>ATM Street 1</td><td>Dhaka</td><td>Bangladesh</td><td>Indoor</td><td>Operational</td><td>200000001</td><td>B008</td><td>2024-06-20T16:31:47.388Z</td><td>2025-07-23T16:31:47.388Z</td><td>2025-07-23T16:31:47.388Z</td></tr><tr><td>ATM002</td><td>ATM Location 2</td><td>ATM Street 2</td><td>Dhaka</td><td>Bangladesh</td><td>Outdoor</td><td>Operational</td><td>200000002</td><td>B008</td><td>2024-07-16T16:31:47.388Z</td><td>2025-07-23T16:31:47.388Z</td><td>2025-07-23T16:31:47.388Z</td></tr><tr><td>ATM003</td><td>ATM Location 3</td><td>ATM Street 3</td><td>Dhaka</td><td>Bangladesh</td><td>Indoor</td><td>Maintenance</td><td>200000003</td><td>B005</td><td>2024-04-20T16:31:47.388Z</td><td>2025-07-23T16:31:47.388Z</td><td>2025-07-23T16:31:47.388Z</td></tr><tr><td>ATM004</td><td>ATM Location 4</td><td>ATM Street 4</td><td>Dhaka</td><td>Bangladesh</td><td>Indoor</td><td>Operational</td><td>200000004</td><td>B003</td><td>2024-04-30T16:31:47.388Z</td><td>2025-07-23T16:31:47.388Z</td><td>2025-07-23T16:31:47.388Z</td></tr></tbody></table></div>"
      ]
     },
     "metadata": {
      "application/vnd.databricks.v1+output": {
       "addedWidgets": {},
       "aggData": [],
       "aggError": "",
       "aggOverflow": false,
       "aggSchema": [],
       "aggSeriesLimitReached": false,
       "aggType": "",
       "arguments": {},
       "columnCustomDisplayInfos": {},
       "data": [
        [
         "ATM000",
         "ATM Location 0",
         "ATM Street 0",
         "Dhaka",
         "Bangladesh",
         "Indoor",
         "Maintenance",
         200000000,
         "B008",
         "2024-08-25T16:31:47.388Z",
         "2025-07-23T16:31:47.388Z",
         "2025-07-23T16:31:47.388Z"
        ],
        [
         "ATM001",
         "ATM Location 1",
         "ATM Street 1",
         "Dhaka",
         "Bangladesh",
         "Indoor",
         "Operational",
         200000001,
         "B008",
         "2024-06-20T16:31:47.388Z",
         "2025-07-23T16:31:47.388Z",
         "2025-07-23T16:31:47.388Z"
        ],
        [
         "ATM002",
         "ATM Location 2",
         "ATM Street 2",
         "Dhaka",
         "Bangladesh",
         "Outdoor",
         "Operational",
         200000002,
         "B008",
         "2024-07-16T16:31:47.388Z",
         "2025-07-23T16:31:47.388Z",
         "2025-07-23T16:31:47.388Z"
        ],
        [
         "ATM003",
         "ATM Location 3",
         "ATM Street 3",
         "Dhaka",
         "Bangladesh",
         "Indoor",
         "Maintenance",
         200000003,
         "B005",
         "2024-04-20T16:31:47.388Z",
         "2025-07-23T16:31:47.388Z",
         "2025-07-23T16:31:47.388Z"
        ],
        [
         "ATM004",
         "ATM Location 4",
         "ATM Street 4",
         "Dhaka",
         "Bangladesh",
         "Indoor",
         "Operational",
         200000004,
         "B003",
         "2024-04-30T16:31:47.388Z",
         "2025-07-23T16:31:47.388Z",
         "2025-07-23T16:31:47.388Z"
        ]
       ],
       "datasetInfos": [],
       "dbfsResultPath": null,
       "isJsonSchema": true,
       "metadata": {},
       "overflow": false,
       "plotOptions": {
        "customPlotOptions": {},
        "displayType": "table",
        "pivotAggregation": null,
        "pivotColumns": null,
        "xColumns": null,
        "yColumns": null
       },
       "removedWidgets": [],
       "schema": [
        {
         "metadata": "{}",
         "name": "atm_id",
         "type": "\"string\""
        },
        {
         "metadata": "{}",
         "name": "location_name",
         "type": "\"string\""
        },
        {
         "metadata": "{}",
         "name": "address",
         "type": "\"string\""
        },
        {
         "metadata": "{}",
         "name": "city",
         "type": "\"string\""
        },
        {
         "metadata": "{}",
         "name": "country",
         "type": "\"string\""
        },
        {
         "metadata": "{}",
         "name": "atm_type",
         "type": "\"string\""
        },
        {
         "metadata": "{}",
         "name": "atm_status",
         "type": "\"string\""
        },
        {
         "metadata": "{}",
         "name": "cash_gl_account_id",
         "type": "\"long\""
        },
        {
         "metadata": "{}",
         "name": "branch_id",
         "type": "\"string\""
        },
        {
         "metadata": "{}",
         "name": "last_maintenance_date",
         "type": "\"timestamp\""
        },
        {
         "metadata": "{}",
         "name": "created_date",
         "type": "\"timestamp\""
        },
        {
         "metadata": "{}",
         "name": "last_updated_date",
         "type": "\"timestamp\""
        }
       ],
       "type": "table"
      }
     },
     "output_type": "display_data"
    }
   ],
   "source": [
    "display(users_df.limit(5))\n",
    "display(customers_df.limit(5))\n",
    "display(branches_df.limit(5))\n",
    "display(accounts_df.limit(5))\n",
    "display(atms_df.limit(5))"
   ]
  },
  {
   "cell_type": "code",
   "execution_count": 0,
   "metadata": {
    "application/vnd.databricks.v1+cell": {
     "cellMetadata": {
      "byteLimit": 2048000,
      "rowLimit": 10000
     },
     "inputWidgets": {},
     "nuid": "841d2411-ab52-4a53-8be7-4503c797164f",
     "showTitle": false,
     "tableResultSettingsMap": {},
     "title": ""
    }
   },
   "outputs": [],
   "source": [
    "users_df.write.mode(\"overwrite\").format(\"delta\").saveAsTable(\"bank_cbs.bronze.users\")\n",
    "customers_df.write.mode(\"overwrite\").format(\"delta\").saveAsTable(\"bank_cbs.bronze.customers\")\n",
    "branches_df.write.mode(\"overwrite\").format(\"delta\").saveAsTable(\"bank_cbs.bronze.branches\")\n",
    "accounts_df.write.mode(\"overwrite\").format(\"delta\").saveAsTable(\"bank_cbs.bronze.accounts\")\n",
    "atms_df.write.mode(\"overwrite\").format(\"delta\").saveAsTable(\"bank_cbs.bronze.atms\")"
   ]
  }
 ],
 "metadata": {
  "application/vnd.databricks.v1+notebook": {
   "computePreferences": null,
   "dashboards": [],
   "environmentMetadata": {
    "base_environment": "",
    "environment_version": "2"
   },
   "inputWidgetPreferences": null,
   "language": "python",
   "notebookMetadata": {
    "pythonIndentUnit": 4
   },
   "notebookName": "02_CBS_Entity_Table_Creation_with_Data_Simulation",
   "widgets": {}
  },
  "language_info": {
   "name": "python"
  }
 },
 "nbformat": 4,
 "nbformat_minor": 0
}