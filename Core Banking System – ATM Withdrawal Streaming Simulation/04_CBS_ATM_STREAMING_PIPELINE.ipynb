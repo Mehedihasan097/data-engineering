{
 "cells": [
  {
   "cell_type": "code",
   "execution_count": 0,
   "metadata": {
    "application/vnd.databricks.v1+cell": {
     "cellMetadata": {
      "byteLimit": 2048000,
      "rowLimit": 10000
     },
     "inputWidgets": {},
     "nuid": "a6527eb4-428b-4556-bb61-8ac6a18563d1",
     "showTitle": false,
     "tableResultSettingsMap": {},
     "title": ""
    }
   },
   "outputs": [],
   "source": [
    "from pyspark.sql.functions import col, from_json, expr\n",
    "from pyspark.sql.types import StructType\n",
    "\n",
    "bronze_ledger_df = (\n",
    "    spark.readStream\n",
    "        .format(\"delta\")\n",
    "        .load(\"/Volumes/bank_cbs/00_landing/financial_ledger\")\n",
    "        .filter(\"TRANSACTION_TYPE_CODE = '001'\")\n",
    ")"
   ]
  },
  {
   "cell_type": "code",
   "execution_count": 0,
   "metadata": {
    "application/vnd.databricks.v1+cell": {
     "cellMetadata": {
      "byteLimit": 2048000,
      "rowLimit": 10000
     },
     "inputWidgets": {},
     "nuid": "9a1e5ec2-a827-4449-82a6-0c8d735f514c",
     "showTitle": false,
     "tableResultSettingsMap": {},
     "title": ""
    }
   },
   "outputs": [],
   "source": [
    "# Filter DR (Customer) and CR (ATM) rows\n",
    "dr_df = bronze_ledger_df.filter(\"entry_type = 'DR'\").withColumnRenamed(\"account_id\", \"customer_account_id\")\n",
    "cr_df = bronze_ledger_df.filter(\"entry_type = 'CR'\").withColumnRenamed(\"account_id\", \"atm_account_id\")\n",
    "\n",
    "# Join DR and CR on transaction_id\n",
    "txn_df = (\n",
    "    dr_df.alias(\"dr\")\n",
    "    .join(cr_df.alias(\"cr\"), on=\"transaction_id\")\n",
    "    .select(\n",
    "        col(\"dr.transaction_id\"),\n",
    "        col(\"dr.transaction_timestamp\"),\n",
    "        col(\"dr.customer_account_id\"),\n",
    "        col(\"cr.atm_account_id\"),\n",
    "        col(\"dr.amount\").alias(\"withdrawal_amount\"),\n",
    "        col(\"dr.transaction_type_code\").alias(\"type_code\"),\n",
    "        col(\"dr.channel_code\")\n",
    "    )\n",
    ")\n",
    "\n"
   ]
  },
  {
   "cell_type": "code",
   "execution_count": 0,
   "metadata": {
    "application/vnd.databricks.v1+cell": {
     "cellMetadata": {},
     "inputWidgets": {},
     "nuid": "10cf271c-4ced-4fed-9c54-fd1a11650012",
     "showTitle": false,
     "tableResultSettingsMap": {},
     "title": ""
    }
   },
   "outputs": [],
   "source": [
    "#Stream-Stream Join with Watermark\n",
    "\n",
    "from pyspark.sql.functions import col, expr\n",
    "\n",
    "dr_df = (\n",
    "    bronze_ledger_df\n",
    "    .filter(\"entry_type = 'DR'\")\n",
    "    .withColumnRenamed(\"account_id\", \"customer_account_id\")\n",
    "    .withWatermark(\"transaction_timestamp\", \"10 minutes\")\n",
    ")\n",
    "\n",
    "cr_df = (\n",
    "    bronze_ledger_df\n",
    "    .filter(\"entry_type = 'CR'\")\n",
    "    .withColumnRenamed(\"account_id\", \"atm_account_id\")\n",
    "    .withWatermark(\"transaction_timestamp\", \"10 minutes\")\n",
    ")\n",
    "\n",
    "txn_df = (\n",
    "    dr_df.alias(\"dr\")\n",
    "    .join(\n",
    "        cr_df.alias(\"cr\"),\n",
    "        expr(\"\"\"\n",
    "            dr.transaction_id = cr.transaction_id AND\n",
    "            dr.transaction_timestamp BETWEEN cr.transaction_timestamp - interval 10 minutes AND cr.transaction_timestamp + interval 10 minutes\n",
    "        \"\"\")\n",
    "    )\n",
    "    .select(\n",
    "        col(\"dr.transaction_id\"),\n",
    "        col(\"dr.transaction_timestamp\"),\n",
    "        col(\"dr.customer_account_id\"),\n",
    "        col(\"cr.atm_account_id\"),\n",
    "        col(\"dr.amount\").alias(\"withdrawal_amount\"),\n",
    "        col(\"dr.transaction_type_code\").alias(\"type_code\"),\n",
    "        col(\"dr.channel_code\")\n",
    "    )\n",
    ")"
   ]
  },
  {
   "cell_type": "code",
   "execution_count": 0,
   "metadata": {
    "application/vnd.databricks.v1+cell": {
     "cellMetadata": {
      "byteLimit": 2048000,
      "rowLimit": 10000
     },
     "inputWidgets": {},
     "nuid": "fcb0dc64-e659-40ee-b91a-98e6bfca4d05",
     "showTitle": false,
     "tableResultSettingsMap": {},
     "title": ""
    }
   },
   "outputs": [],
   "source": [
    "from pyspark.sql.functions import broadcast\n",
    "\n",
    "# Load static reference tables\n",
    "accounts_df = spark.read.format(\"delta\").table(\"bank_cbs.bronze.accounts\")\n",
    "atms_df = spark.read.format(\"delta\").table(\"bank_cbs.bronze.atms\")\n",
    "branches_df = spark.read.format(\"delta\").table(\"bank_cbs.bronze.branches\")\n",
    "ref_transaction_types_df = spark.read.format(\"delta\").table(\"bank_cbs.bronze.ref_transaction_types\")\n",
    "ref_channels_df = spark.read.format(\"delta\").table(\"bank_cbs.bronze.ref_channels\")"
   ]
  },
  {
   "cell_type": "code",
   "execution_count": 0,
   "metadata": {
    "application/vnd.databricks.v1+cell": {
     "cellMetadata": {
      "byteLimit": 2048000,
      "rowLimit": 10000
     },
     "inputWidgets": {},
     "nuid": "7cb163e2-341c-4314-87d4-9c1c204d7652",
     "showTitle": false,
     "tableResultSettingsMap": {},
     "title": ""
    }
   },
   "outputs": [],
   "source": [
    "# Join ATM Account to ATM\n",
    "txn_joined_df = (\n",
    "    txn_df\n",
    "    .join(broadcast(atms_df), txn_df[\"atm_account_id\"] == atms_df[\"cash_gl_account_id\"], how=\"left\")\n",
    "    .join(broadcast(branches_df), on=\"branch_id\", how=\"left\")\n",
    "    .join(broadcast(ref_transaction_types_df), on=\"type_code\", how=\"left\")\n",
    "    .join(broadcast(ref_channels_df), on=\"channel_code\", how=\"left\")\n",
    ")"
   ]
  },
  {
   "cell_type": "code",
   "execution_count": 0,
   "metadata": {
    "application/vnd.databricks.v1+cell": {
     "cellMetadata": {
      "byteLimit": 2048000,
      "rowLimit": 10000
     },
     "inputWidgets": {},
     "nuid": "c8fe987c-1cf9-4bbe-9549-486e27ca1468",
     "showTitle": false,
     "tableResultSettingsMap": {},
     "title": ""
    }
   },
   "outputs": [],
   "source": [
    "final_df = txn_joined_df.select(\n",
    "    \"transaction_id\",\n",
    "    \"transaction_timestamp\",\n",
    "    \"customer_account_id\",\n",
    "    \"atm_account_id\",\n",
    "    \"atm_id\",\n",
    "    \"location_name\",\n",
    "    # \"city\",\n",
    "    \"branch_id\",\n",
    "    \"branch_name\",\n",
    "    \"type_code\",\n",
    "    \"TYPE_NAME\",\n",
    "    \"channel_code\",\n",
    "    \"channel_name\",\n",
    "    \"withdrawal_amount\"\n",
    ")\n",
    "\n",
    "query = (\n",
    "    final_df.writeStream\n",
    "    .format(\"delta\")\n",
    "    .outputMode(\"append\")\n",
    "    .option(\"checkpointLocation\", \"/Volumes/bank_cbs/silver/atm_checkpoint_volume/atm_withdrawal_mart_ckpt\")  # ✅ Use managed volume path\n",
    "    .trigger(once=True)\n",
    "    .start(\"/Volumes/bank_cbs/silver/atm_withdrawal_mart\")  # ✅ Write to silver Delta table path\n",
    ")"
   ]
  },
  {
   "cell_type": "code",
   "execution_count": 0,
   "metadata": {
    "application/vnd.databricks.v1+cell": {
     "cellMetadata": {
      "byteLimit": 2048000,
      "rowLimit": 10000
     },
     "inputWidgets": {},
     "nuid": "2e0aa506-c124-431d-a214-c7ab3a280894",
     "showTitle": false,
     "tableResultSettingsMap": {},
     "title": ""
    }
   },
   "outputs": [
    {
     "output_type": "display_data",
     "data": {
      "text/html": [
       "<style scoped>\n",
       "  .table-result-container {\n",
       "    max-height: 300px;\n",
       "    overflow: auto;\n",
       "  }\n",
       "  table, th, td {\n",
       "    border: 1px solid black;\n",
       "    border-collapse: collapse;\n",
       "  }\n",
       "  th, td {\n",
       "    padding: 5px;\n",
       "  }\n",
       "  th {\n",
       "    text-align: left;\n",
       "  }\n",
       "</style><div class='table-result-container'><table class='table-result'><thead style='background-color: white'><tr><th>transaction_id</th><th>transaction_timestamp</th><th>customer_account_id</th><th>atm_account_id</th><th>atm_id</th><th>location_name</th><th>branch_id</th><th>branch_name</th><th>type_code</th><th>TYPE_NAME</th><th>channel_code</th><th>channel_name</th><th>withdrawal_amount</th></tr></thead><tbody><tr><td>935e4e3c-f5c4-4fec-b03b-5bdd9690484c</td><td>2025-07-25T07:58:00.000Z</td><td>100000459</td><td>200000071</td><td>ATM071</td><td>ATM Location 71</td><td>B010</td><td>Branch 10</td><td>001</td><td>Cash Withdrawal</td><td>100</td><td>ATM</td><td>1200.0</td></tr><tr><td>6a054f4e-6a2c-48a5-8b1f-2686500598fc</td><td>2025-07-25T22:43:00.000Z</td><td>100000268</td><td>200000031</td><td>ATM031</td><td>ATM Location 31</td><td>B009</td><td>Branch 9</td><td>001</td><td>Cash Withdrawal</td><td>100</td><td>ATM</td><td>1500.0</td></tr><tr><td>4f52e805-33ea-4edb-b550-91ac80fdfc1e</td><td>2025-07-25T00:49:00.000Z</td><td>100000031</td><td>200000018</td><td>ATM018</td><td>ATM Location 18</td><td>B004</td><td>Branch 4</td><td>001</td><td>Cash Withdrawal</td><td>100</td><td>ATM</td><td>1600.0</td></tr><tr><td>3cd07bad-47ef-4fdf-91ab-6e6ec6ed50de</td><td>2025-07-25T05:33:00.000Z</td><td>100000171</td><td>200000067</td><td>ATM067</td><td>ATM Location 67</td><td>B009</td><td>Branch 9</td><td>001</td><td>Cash Withdrawal</td><td>100</td><td>ATM</td><td>700.0</td></tr><tr><td>75cdea05-e9ed-4ae2-89c2-f7d78e3fd13d</td><td>2025-07-25T16:20:00.000Z</td><td>100000099</td><td>200000006</td><td>ATM006</td><td>ATM Location 6</td><td>B005</td><td>Branch 5</td><td>001</td><td>Cash Withdrawal</td><td>100</td><td>ATM</td><td>1500.0</td></tr><tr><td>2c680d75-fc58-4599-9805-c91c4d5b256a</td><td>2025-07-25T20:27:00.000Z</td><td>100000416</td><td>200000016</td><td>ATM016</td><td>ATM Location 16</td><td>B003</td><td>Branch 3</td><td>001</td><td>Cash Withdrawal</td><td>100</td><td>ATM</td><td>200.0</td></tr><tr><td>36a9a8bc-5e8a-44db-96f5-eb558664ab08</td><td>2025-07-25T05:19:00.000Z</td><td>100000382</td><td>200000032</td><td>ATM032</td><td>ATM Location 32</td><td>B004</td><td>Branch 4</td><td>001</td><td>Cash Withdrawal</td><td>100</td><td>ATM</td><td>1000.0</td></tr><tr><td>793b5647-f9bc-4f31-8dd7-66918092e949</td><td>2025-07-25T19:29:00.000Z</td><td>100000147</td><td>200000091</td><td>ATM091</td><td>ATM Location 91</td><td>B007</td><td>Branch 7</td><td>001</td><td>Cash Withdrawal</td><td>100</td><td>ATM</td><td>1300.0</td></tr><tr><td>a0230d14-6fd9-4344-8fa2-9de03e7db743</td><td>2025-07-25T06:27:00.000Z</td><td>100000422</td><td>200000081</td><td>ATM081</td><td>ATM Location 81</td><td>B003</td><td>Branch 3</td><td>001</td><td>Cash Withdrawal</td><td>100</td><td>ATM</td><td>1700.0</td></tr><tr><td>b4900194-7354-40b2-a07b-2e235928676b</td><td>2025-07-25T06:04:00.000Z</td><td>100000024</td><td>200000074</td><td>ATM074</td><td>ATM Location 74</td><td>B003</td><td>Branch 3</td><td>001</td><td>Cash Withdrawal</td><td>100</td><td>ATM</td><td>2000.0</td></tr></tbody></table></div>"
      ]
     },
     "metadata": {
      "application/vnd.databricks.v1+output": {
       "addedWidgets": {},
       "aggData": [],
       "aggError": "",
       "aggOverflow": false,
       "aggSchema": [],
       "aggSeriesLimitReached": false,
       "aggType": "",
       "arguments": {},
       "columnCustomDisplayInfos": {},
       "data": [
        [
         "935e4e3c-f5c4-4fec-b03b-5bdd9690484c",
         "2025-07-25T07:58:00.000Z",
         "100000459",
         "200000071",
         "ATM071",
         "ATM Location 71",
         "B010",
         "Branch 10",
         "001",
         "Cash Withdrawal",
         "100",
         "ATM",
         1200.0
        ],
        [
         "6a054f4e-6a2c-48a5-8b1f-2686500598fc",
         "2025-07-25T22:43:00.000Z",
         "100000268",
         "200000031",
         "ATM031",
         "ATM Location 31",
         "B009",
         "Branch 9",
         "001",
         "Cash Withdrawal",
         "100",
         "ATM",
         1500.0
        ],
        [
         "4f52e805-33ea-4edb-b550-91ac80fdfc1e",
         "2025-07-25T00:49:00.000Z",
         "100000031",
         "200000018",
         "ATM018",
         "ATM Location 18",
         "B004",
         "Branch 4",
         "001",
         "Cash Withdrawal",
         "100",
         "ATM",
         1600.0
        ],
        [
         "3cd07bad-47ef-4fdf-91ab-6e6ec6ed50de",
         "2025-07-25T05:33:00.000Z",
         "100000171",
         "200000067",
         "ATM067",
         "ATM Location 67",
         "B009",
         "Branch 9",
         "001",
         "Cash Withdrawal",
         "100",
         "ATM",
         700.0
        ],
        [
         "75cdea05-e9ed-4ae2-89c2-f7d78e3fd13d",
         "2025-07-25T16:20:00.000Z",
         "100000099",
         "200000006",
         "ATM006",
         "ATM Location 6",
         "B005",
         "Branch 5",
         "001",
         "Cash Withdrawal",
         "100",
         "ATM",
         1500.0
        ],
        [
         "2c680d75-fc58-4599-9805-c91c4d5b256a",
         "2025-07-25T20:27:00.000Z",
         "100000416",
         "200000016",
         "ATM016",
         "ATM Location 16",
         "B003",
         "Branch 3",
         "001",
         "Cash Withdrawal",
         "100",
         "ATM",
         200.0
        ],
        [
         "36a9a8bc-5e8a-44db-96f5-eb558664ab08",
         "2025-07-25T05:19:00.000Z",
         "100000382",
         "200000032",
         "ATM032",
         "ATM Location 32",
         "B004",
         "Branch 4",
         "001",
         "Cash Withdrawal",
         "100",
         "ATM",
         1000.0
        ],
        [
         "793b5647-f9bc-4f31-8dd7-66918092e949",
         "2025-07-25T19:29:00.000Z",
         "100000147",
         "200000091",
         "ATM091",
         "ATM Location 91",
         "B007",
         "Branch 7",
         "001",
         "Cash Withdrawal",
         "100",
         "ATM",
         1300.0
        ],
        [
         "a0230d14-6fd9-4344-8fa2-9de03e7db743",
         "2025-07-25T06:27:00.000Z",
         "100000422",
         "200000081",
         "ATM081",
         "ATM Location 81",
         "B003",
         "Branch 3",
         "001",
         "Cash Withdrawal",
         "100",
         "ATM",
         1700.0
        ],
        [
         "b4900194-7354-40b2-a07b-2e235928676b",
         "2025-07-25T06:04:00.000Z",
         "100000024",
         "200000074",
         "ATM074",
         "ATM Location 74",
         "B003",
         "Branch 3",
         "001",
         "Cash Withdrawal",
         "100",
         "ATM",
         2000.0
        ]
       ],
       "datasetInfos": [],
       "dbfsResultPath": null,
       "isJsonSchema": true,
       "metadata": {},
       "overflow": false,
       "plotOptions": {
        "customPlotOptions": {},
        "displayType": "table",
        "pivotAggregation": null,
        "pivotColumns": null,
        "xColumns": null,
        "yColumns": null
       },
       "removedWidgets": [],
       "schema": [
        {
         "metadata": "{}",
         "name": "transaction_id",
         "type": "\"string\""
        },
        {
         "metadata": "{}",
         "name": "transaction_timestamp",
         "type": "\"timestamp\""
        },
        {
         "metadata": "{}",
         "name": "customer_account_id",
         "type": "\"string\""
        },
        {
         "metadata": "{}",
         "name": "atm_account_id",
         "type": "\"string\""
        },
        {
         "metadata": "{}",
         "name": "atm_id",
         "type": "\"string\""
        },
        {
         "metadata": "{}",
         "name": "location_name",
         "type": "\"string\""
        },
        {
         "metadata": "{}",
         "name": "branch_id",
         "type": "\"string\""
        },
        {
         "metadata": "{}",
         "name": "branch_name",
         "type": "\"string\""
        },
        {
         "metadata": "{}",
         "name": "type_code",
         "type": "\"string\""
        },
        {
         "metadata": "{}",
         "name": "TYPE_NAME",
         "type": "\"string\""
        },
        {
         "metadata": "{}",
         "name": "channel_code",
         "type": "\"string\""
        },
        {
         "metadata": "{}",
         "name": "channel_name",
         "type": "\"string\""
        },
        {
         "metadata": "{}",
         "name": "withdrawal_amount",
         "type": "\"double\""
        }
       ],
       "type": "table"
      }
     },
     "output_type": "display_data"
    }
   ],
   "source": [
    "df_atm_mart = spark.read.format(\"delta\").load(\"/Volumes/bank_cbs/silver/atm_withdrawal_mart\")\n",
    "display(df_atm_mart.limit(10))"
   ]
  },
  {
   "cell_type": "code",
   "execution_count": 0,
   "metadata": {
    "application/vnd.databricks.v1+cell": {
     "cellMetadata": {},
     "inputWidgets": {},
     "nuid": "50e3bf74-84cb-4db1-be9d-cc88eba8b14e",
     "showTitle": false,
     "tableResultSettingsMap": {},
     "title": ""
    }
   },
   "outputs": [],
   "source": []
  }
 ],
 "metadata": {
  "application/vnd.databricks.v1+notebook": {
   "computePreferences": null,
   "dashboards": [],
   "environmentMetadata": {
    "base_environment": "",
    "environment_version": "2"
   },
   "inputWidgetPreferences": null,
   "language": "python",
   "notebookMetadata": {
    "pythonIndentUnit": 4
   },
   "notebookName": "04_CBS_ATM_STREAMING_PIPELINE",
   "widgets": {}
  },
  "language_info": {
   "name": "python"
  }
 },
 "nbformat": 4,
 "nbformat_minor": 0
}