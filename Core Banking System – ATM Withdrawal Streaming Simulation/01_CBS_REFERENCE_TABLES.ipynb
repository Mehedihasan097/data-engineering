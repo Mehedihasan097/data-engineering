{
 "cells": [
  {
   "cell_type": "code",
   "execution_count": 0,
   "metadata": {
    "application/vnd.databricks.v1+cell": {
     "cellMetadata": {
      "byteLimit": 2048000,
      "rowLimit": 10000
     },
     "inputWidgets": {},
     "nuid": "432be8b7-f63e-468d-a65c-58566e169cdb",
     "showTitle": false,
     "tableResultSettingsMap": {},
     "title": ""
    }
   },
   "outputs": [],
   "source": [
    "from pyspark.sql.types import *\n",
    "from datetime import datetime\n",
    "\n",
    "# Define schema explicitly\n",
    "transaction_type_schema = StructType([\n",
    "    StructField(\"TYPE_CODE\", StringType(), False),\n",
    "    StructField(\"TYPE_NAME\", StringType(), False),\n",
    "    StructField(\"DESCRIPTION\", StringType(), True),\n",
    "    StructField(\"IS_FINANCIAL\", BooleanType(), False),\n",
    "    StructField(\"IS_REVERSAL_TYPE\", BooleanType(), False),\n",
    "    StructField(\"CREATED_DATE\", TimestampType(), False),\n",
    "    StructField(\"LAST_UPDATED_DATE\", TimestampType(), False)\n",
    "])\n",
    "\n",
    "# Sample static data\n",
    "data = [\n",
    "    ('001', 'Cash Withdrawal', 'Customer withdraws cash from their account.', True, False, datetime.now(), datetime.now()),\n",
    "    ('002', 'Cash Deposit', 'Customer deposits cash into their account.', True, False, datetime.now(), datetime.now()),\n",
    "    ('003', 'Funds Transfer (Internal)', 'Transfer of funds between accounts within the same bank.', True, False, datetime.now(), datetime.now()),\n",
    "    ('004', 'Bill Payment', 'Customer pays a bill (e.g., utility, credit card).', True, False, datetime.now(), datetime.now()),\n",
    "    ('005', 'Cheque Deposit', 'Customer deposits a cheque into their account.', True, False, datetime.now(), datetime.now()),\n",
    "    ('010', 'ATM Replenishment', 'Bank staff loads cash into an ATM machine.', True, False, datetime.now(), datetime.now()),\n",
    "    ('011', 'ATM Cash Collection', 'Bank staff collects excess cash from an ATM machine.', True, False, datetime.now(), datetime.now()),\n",
    "    ('020', 'Service Fee', 'General service charge applied to an account.', True, False, datetime.now(), datetime.now()),\n",
    "    ('021', 'ATM Withdrawal Fee (Other Bank)', 'Fee charged for withdrawing cash from another bank\\'s ATM.', True, False, datetime.now(), datetime.now()),\n",
    "    ('022', 'Interbank Transfer Fee', 'Fee for transferring funds to another bank.', True, False, datetime.now(), datetime.now()),\n",
    "    ('030', 'Loan Disbursement', 'Bank disburses funds for a loan.', True, False, datetime.now(), datetime.now()),\n",
    "    ('031', 'Loan Repayment', 'Customer makes a payment towards a loan.', True, False, datetime.now(), datetime.now()),\n",
    "    ('032', 'Credit Card Payment', 'Customer pays their credit card bill.', True, False, datetime.now(), datetime.now()),\n",
    "    ('040', 'FX Buy (Bank Buys)', 'Bank buys foreign currency from a customer.', True, False, datetime.now(), datetime.now()),\n",
    "    ('041', 'FX Sell (Bank Sells)', 'Bank sells foreign currency to a customer.', True, False, datetime.now(), datetime.now()),\n",
    "    ('901', 'Withdrawal Reversal', 'Reversal of a previously processed cash withdrawal.', True, True, datetime.now(), datetime.now()),\n",
    "    ('902', 'Deposit Reversal', 'Reversal of a previously processed cash deposit.', True, True, datetime.now(), datetime.now()),\n",
    "    ('903', 'Transfer Reversal', 'Reversal of a previously processed funds transfer.', True, True, datetime.now(), datetime.now()),\n",
    "    ('904', 'Fee Reversal', 'Reversal of a previously charged fee.', True, True, datetime.now(), datetime.now()),\n",
    "    ('999', 'General Adjustment', 'General accounting adjustment (may or may not be a reversal of a specific transaction).', True, False, datetime.now(), datetime.now())\n",
    "]\n",
    "\n",
    "# Create DataFrame\n",
    "ref_transaction_types_df = spark.createDataFrame(data, schema=transaction_type_schema)\n",
    "\n",
    "# Define path\n",
    "#dimension_path = \"/mnt/bank_cbs/bronze/dimensions/ref_transaction_types\"\n",
    "\n",
    "# Save as Delta\n",
    "ref_transaction_types_df.write.mode(\"overwrite\").format(\"delta\").saveAsTable(\"bank_cbs.bronze.ref_transaction_types\")"
   ]
  },
  {
   "cell_type": "code",
   "execution_count": 0,
   "metadata": {
    "application/vnd.databricks.v1+cell": {
     "cellMetadata": {
      "byteLimit": 2048000,
      "rowLimit": 10000
     },
     "inputWidgets": {},
     "nuid": "35381997-6475-4a66-9768-ddadaa47d35e",
     "showTitle": false,
     "tableResultSettingsMap": {},
     "title": ""
    }
   },
   "outputs": [],
   "source": [
    "from pyspark.sql import SparkSession\n",
    "from datetime import datetime\n",
    "from pyspark.sql.types import StructType, StructField, StringType, IntegerType, BooleanType, TimestampType\n",
    "\n",
    "# 1. Initialize Spark (if not already)\n",
    "spark = SparkSession.builder.getOrCreate()\n",
    "\n",
    "# 2. Prepare your data\n",
    "now = datetime.now()\n",
    "\n",
    "currencies_data = [\n",
    "    (\"BDT\", \"Bangladeshi Taka\", 2, \"৳\", True, now, now),\n",
    "    (\"USD\", \"United States Dollar\", 2, \"$\", True, now, now),\n",
    "    (\"EUR\", \"Euro\", 2, \"€\", True, now, now),\n",
    "    (\"GBP\", \"British Pound\", 2, \"£\", True, now, now),\n",
    "    (\"JPY\", \"Japanese Yen\", 0, \"¥\", True, now, now),\n",
    "    (\"INR\", \"Indian Rupee\", 2, \"₹\", True, now, now),\n",
    "    (\"CNY\", \"Chinese Yuan\", 2, \"¥\", True, now, now),\n",
    "    (\"SAR\", \"Saudi Riyal\", 2, \"﷼\", True, now, now),\n",
    "]\n",
    "\n",
    "# 3. Define the schema\n",
    "currencies_schema = StructType([\n",
    "    StructField(\"currency_code\", StringType(), False),\n",
    "    StructField(\"currency_name\", StringType(), False),\n",
    "    StructField(\"decimal_places\", IntegerType(), False),\n",
    "    StructField(\"symbol\", StringType(), True),\n",
    "    StructField(\"is_active\", BooleanType(), False),\n",
    "    StructField(\"created_date\", TimestampType(), False),\n",
    "    StructField(\"updated_date\", TimestampType(), False),\n",
    "])\n",
    "\n",
    "# 4. Create DataFrame\n",
    "ref_currencies_df = spark.createDataFrame(data=currencies_data, schema=currencies_schema)\n",
    "\n",
    "\n",
    "# 5. Write to Unity Catalog volume (Bronze zone)\n",
    "ref_currencies_df.write.format(\"delta\").mode(\"overwrite\").saveAsTable(\"bank_cbs.bronze.ref_currencies\")\n",
    "\n"
   ]
  },
  {
   "cell_type": "code",
   "execution_count": 0,
   "metadata": {
    "application/vnd.databricks.v1+cell": {
     "cellMetadata": {
      "byteLimit": 2048000,
      "rowLimit": 10000
     },
     "inputWidgets": {},
     "nuid": "14c4816e-0dfe-4f8f-9458-11aa26c7e47a",
     "showTitle": false,
     "tableResultSettingsMap": {},
     "title": ""
    }
   },
   "outputs": [],
   "source": [
    "from pyspark.sql import SparkSession\n",
    "from pyspark.sql.types import StructType, StructField, StringType, BooleanType, TimestampType\n",
    "from datetime import datetime\n",
    "\n",
    "# Initialize Spark Session\n",
    "spark = SparkSession.builder.getOrCreate()\n",
    "\n",
    "now = datetime.now()\n",
    "\n",
    "# Data\n",
    "channels_data = [\n",
    "    (\"100\", \"ATM\", \"Transactions initiated via Automated Teller Machines.\", True, now, now),\n",
    "    (\"101\", \"Mobile Banking App\", \"Transactions initiated via the bank's mobile application.\", True, now, now),\n",
    "    (\"102\", \"Internet Banking\", \"Transactions initiated via the bank's web portal.\", True, now, now),\n",
    "    (\"103\", \"Bank Branch\", \"Transactions initiated in person at a physical bank branch.\", True, now, now),\n",
    "    (\"104\", \"POS Terminal\", \"Point of Sale transactions (e.g., merchant payments).\", True, now, now),\n",
    "    (\"105\", \"Call Center\", \"Transactions initiated through the bank's customer call center.\", True, now, now),\n",
    "    (\"106\", \"API Integration\", \"Transactions initiated programmatically via direct API integrations (e.g., corporate clients, fintech partners).\", True, now, now),\n",
    "    (\"107\", \"Kiosk\", \"Self-service transactions initiated via bank kiosks.\", True, now, now),\n",
    "    (\"108\", \"Agent Banking\", \"Transactions facilitated by authorized agent banking outlets.\", True, now, now),\n",
    "]\n",
    "\n",
    "# Schema\n",
    "channels_schema = StructType([\n",
    "    StructField(\"channel_code\", StringType(), False),\n",
    "    StructField(\"channel_name\", StringType(), False),\n",
    "    StructField(\"description\", StringType(), True),\n",
    "    StructField(\"is_active\", BooleanType(), False),\n",
    "    StructField(\"created_date\", TimestampType(), False),\n",
    "    StructField(\"last_updated_date\", TimestampType(), False),\n",
    "])\n",
    "\n",
    "#create Dataframe\n",
    "ref_channels_df = spark.createDataFrame(data=channels_data, schema=channels_schema)\n",
    "\n",
    "\n",
    "# Write to Unity Catalog volume (Bronze zone)\n",
    "ref_channels_df.write.format(\"delta\").mode(\"overwrite\").saveAsTable(\"bank_cbs.bronze.ref_channels\")"
   ]
  },
  {
   "cell_type": "code",
   "execution_count": 0,
   "metadata": {
    "application/vnd.databricks.v1+cell": {
     "cellMetadata": {
      "byteLimit": 2048000,
      "rowLimit": 10000
     },
     "inputWidgets": {},
     "nuid": "4a622418-56ed-4ec0-9ad1-b0cb13f36c6e",
     "showTitle": false,
     "tableResultSettingsMap": {},
     "title": ""
    }
   },
   "outputs": [],
   "source": [
    "from pyspark.sql import SparkSession\n",
    "from pyspark.sql.types import *\n",
    "from datetime import datetime\n",
    "\n",
    "#now = datetime.now()\n",
    "\n",
    "# Define data\n",
    "data = [\n",
    "    (\"200\", \"Core Banking System\", \"The central system managing customer accounts, balances, and core transactions.\", datetime.now(), datetime.now()),\n",
    "    (\"201\", \"ATM Gateway\", \"Handles communication and processing for Automated Teller Machines.\", datetime.now(), datetime.now()),\n",
    "    (\"202\", \"Mobile Banking Platform\", \"Manages transactions originating from the mobile banking application.\", datetime.now(), datetime.now()),\n",
    "    (\"203\", \"Internet Banking Platform\", \"Manages transactions originating from the internet banking web portal.\", datetime.now(), datetime.now()),\n",
    "    (\"204\", \"Loan Management System\", \"Manages the lifecycle of loan products, from origination to repayment.\", datetime.now(), datetime.now()),\n",
    "    (\"205\", \"Foreign Exchange Engine\", \"Processes currency exchange transactions and calculates rates.\", datetime.now(), datetime.now()),\n",
    "    (\"206\", \"Fee Calculation Engine\", \"Automates the calculation and application of various bank fees.\", datetime.now(), datetime.now()),\n",
    "    (\"207\", \"Clearing House Integration\", \"Manages communication and settlement with external clearing houses (e.g., for interbank transfers).\", datetime.now(), datetime.now()),\n",
    "    (\"208\", \"Fraud Detection System\", \"Monitors transactions for suspicious activity and flags potential fraud.\", datetime.now(), datetime.now()),\n",
    "    (\"209\", \"Cash Management System\", \"Manages physical cash flows, including ATM replenishment and vault management.\", datetime.now(), datetime.now()),\n",
    "    (\"210\", \"Payment Gateway\", \"Integrates with external payment networks for merchant and bill payments.\", datetime.now(), datetime.now()),\n",
    "    (\"211\", \"General Ledger System\", \"The system responsible for maintaining the bank's official accounting records and financial statements.\", datetime.now(), datetime.now())\n",
    "]\n",
    "\n",
    "# Define schema\n",
    "schema = StructType([\n",
    "    StructField(\"SYSTEM_CODE\", StringType(), False),\n",
    "    StructField(\"SYSTEM_NAME\", StringType(), False),\n",
    "    StructField(\"DESCRIPTION\", StringType(), True),\n",
    "    StructField(\"CREATED_DATE\", TimestampType(), False),\n",
    "    StructField(\"LAST_UPDATED_DATE\", TimestampType(), False),\n",
    "])\n",
    "\n",
    "# Create DataFrame\n",
    "ref_processing_systems_df = spark.createDataFrame(data=data, schema=schema)\n",
    "\n",
    "# Write to Unity Catalog volume (Bronze zone)\n",
    "ref_processing_systems_df.write.format(\"delta\").mode(\"overwrite\").saveAsTable(\"bank_cbs.bronze.ref_processing_systems\")\n",
    "\n"
   ]
  },
  {
   "cell_type": "code",
   "execution_count": 0,
   "metadata": {
    "application/vnd.databricks.v1+cell": {
     "cellMetadata": {
      "byteLimit": 2048000,
      "rowLimit": 10000
     },
     "inputWidgets": {},
     "nuid": "3d9696ec-e774-4fce-8cdd-ea6b37a5e7ff",
     "showTitle": false,
     "tableResultSettingsMap": {},
     "title": ""
    }
   },
   "outputs": [],
   "source": [
    "# Data for REF_TRANSACTION_STATUS\n",
    "transaction_status_data = [\n",
    "    (\"300\", \"Pending\", \"Transaction initiated, awaiting initial processing or authorization.\"),\n",
    "    (\"301\", \"Authorized\", \"Funds reserved for the transaction, but not yet fully processed or settled.\"),\n",
    "    (\"302\", \"Processing\", \"Transaction is actively being processed by internal or external systems.\"),\n",
    "    (\"303\", \"Success\", \"Transaction completed successfully, and all financial impacts have been recorded.\"),\n",
    "    (\"304\", \"Failed\", \"Transaction terminated due to an error; no financial impact or impact was rolled back.\"),\n",
    "    (\"305\", \"Reversed\", \"A previously successful transaction has been financially negated by offsetting entries.\"),\n",
    "    (\"306\", \"Cancelled\", \"Transaction was stopped by the user or system before completion, typically with no financial impact.\"),\n",
    "    (\"307\", \"Settled\", \"Funds have been successfully cleared and posted, indicating final completion for interbank or batch processes.\"),\n",
    "    (\"308\", \"Declined\", \"Transaction was rejected at an early stage, typically by an external system or for policy reasons (e.g., insufficient funds).\"),\n",
    "    (\"309\", \"Refunded\", \"Funds were returned to the customer after a successful transaction (a new, separate transaction).\")\n",
    "]\n",
    "\n",
    "# Schema for REF_TRANSACTION_STATUS\n",
    "transaction_status_schema = StructType([\n",
    "    StructField(\"status_code\", StringType(), False),\n",
    "    StructField(\"status_name\", StringType(), False),\n",
    "    StructField(\"description\", StringType(), True)\n",
    "])\n",
    "\n",
    "# Create DataFrame\n",
    "ref_transaction_status_df = spark.createDataFrame(data=transaction_status_data, schema=transaction_status_schema)\n",
    "\n",
    "# Save as Delta Table\n",
    "ref_transaction_status_df.write.format(\"delta\").mode(\"overwrite\").saveAsTable(\"bank_cbs.bronze.ref_transaction_status\")"
   ]
  },
  {
   "cell_type": "code",
   "execution_count": 0,
   "metadata": {
    "application/vnd.databricks.v1+cell": {
     "cellMetadata": {
      "byteLimit": 2048000,
      "rowLimit": 10000
     },
     "inputWidgets": {},
     "nuid": "09cb212e-d6cb-47b3-a877-b87fa4c493ff",
     "showTitle": false,
     "tableResultSettingsMap": {},
     "title": ""
    }
   },
   "outputs": [],
   "source": [
    "# Define data for gl_accounts\n",
    "now = datetime.now()\n",
    "\n",
    "gl_accounts_data = [\n",
    "    (\"1000\", \"Assets\", \"ASSET\", None, True, now, now),\n",
    "    (\"2000\", \"Liabilities\", \"LIABILITY\", None, True, now, now),\n",
    "    (\"3000\", \"Equity\", \"EQUITY\", None, True, now, now),\n",
    "    (\"4000\", \"Revenue\", \"REVENUE\", None, True, now, now),\n",
    "    (\"5000\", \"Expenses\", \"EXPENSE\", None, True, now, now),\n",
    "    (\"1001\", \"Cash and Cash Equivalents\", \"ASSET\", \"1000\", True, now, now),\n",
    "    (\"100101\", \"Bank Vault Cash\", \"ASSET\", \"1001\", True, now, now),\n",
    "    (\"100102\", \"Cash in ATM Machines\", \"ASSET\", \"1001\", True, now, now),\n",
    "    (\"1010\", \"Customer Deposit Accounts (Asset Side)\", \"ASSET\", \"1000\", True, now, now),\n",
    "    (\"101001\", \"Customer Savings Accounts\", \"ASSET\", \"1010\", True, now, now),\n",
    "    (\"101002\", \"Customer Current Accounts\", \"ASSET\", \"1010\", True, now, now),\n",
    "    (\"1020\", \"Loans Receivable\", \"ASSET\", \"1000\", True, now, now),\n",
    "    (\"1030\", \"Interbank Accounts Receivable\", \"ASSET\", \"1000\", True, now, now),\n",
    "    (\"1040\", \"Fixed Assets\", \"ASSET\", \"1000\", True, now, now),\n",
    "    (\"2010\", \"Customer Deposits (Liability Side)\", \"LIABILITY\", \"2000\", True, now, now),\n",
    "    (\"201001\", \"Customer Savings Deposits\", \"LIABILITY\", \"2010\", True, now, now),\n",
    "    (\"201002\", \"Customer Current Deposits\", \"LIABILITY\", \"2010\", True, now, now),\n",
    "    (\"2020\", \"Borrowed Funds\", \"LIABILITY\", \"2000\", True, now, now),\n",
    "    (\"2030\", \"Interbank Accounts Payable\", \"LIABILITY\", \"2000\", True, now, now),\n",
    "    (\"2040\", \"Accrued Expenses\", \"LIABILITY\", \"2000\", True, now, now),\n",
    "    (\"3010\", \"Share Capital\", \"EQUITY\", \"3000\", True, now, now),\n",
    "    (\"3020\", \"Retained Earnings\", \"EQUITY\", \"3000\", True, now, now),\n",
    "    (\"4010\", \"Interest Income\", \"REVENUE\", \"4000\", True, now, now),\n",
    "    (\"4020\", \"Fee and Commission Income\", \"REVENUE\", \"4000\", True, now, now),\n",
    "    (\"402001\", \"ATM Service Fee Income\", \"REVENUE\", \"4020\", True, now, now),\n",
    "    (\"402002\", \"Interbank Fee Income\", \"REVENUE\", \"4020\", True, now, now),\n",
    "    (\"4030\", \"Foreign Exchange Gain/Loss\", \"REVENUE\", \"4000\", True, now, now),\n",
    "    (\"5010\", \"Interest Expense\", \"EXPENSE\", \"5000\", True, now, now),\n",
    "    (\"5020\", \"Operating Expenses\", \"EXPENSE\", \"5000\", True, now, now),\n",
    "    (\"502001\", \"ATM Operating Expenses\", \"EXPENSE\", \"5020\", True, now, now),\n",
    "    (\"5030\", \"Provision for Loan Losses\", \"EXPENSE\", \"5000\", True, now, now)\n",
    "]\n",
    "\n",
    "\n",
    "# Define schema for gl_accounts\n",
    "gl_accounts_schema = StructType([\n",
    "    StructField(\"GL_CODE\", StringType(), False),\n",
    "    StructField(\"GL_NAME\", StringType(), False),\n",
    "    StructField(\"ACCOUNT_TYPE\", StringType(), False),\n",
    "    StructField(\"PARENT_GL_CODE\", StringType(), True),\n",
    "    StructField(\"IS_ACTIVE\", BooleanType(), False),\n",
    "    StructField(\"CREATED_DATE\", TimestampType(), False),\n",
    "    StructField(\"LAST_UPDATED_DATE\", TimestampType(), False)\n",
    "])\n",
    "\n",
    "# Create DataFrame\n",
    "ref_gl_accounts_df = spark.createDataFrame(data=gl_accounts_data, schema=gl_accounts_schema)\n",
    "\n",
    "# Save as Delta Table\n",
    "ref_gl_accounts_df.write.format(\"delta\").mode(\"overwrite\").saveAsTable(\"bank_cbs.bronze.ref_gl_accounts\")"
   ]
  },
  {
   "cell_type": "code",
   "execution_count": 0,
   "metadata": {
    "application/vnd.databricks.v1+cell": {
     "cellMetadata": {},
     "inputWidgets": {},
     "nuid": "52916811-1db6-482b-9e60-ca42168f7c9b",
     "showTitle": false,
     "tableResultSettingsMap": {},
     "title": ""
    }
   },
   "outputs": [],
   "source": []
  }
 ],
 "metadata": {
  "application/vnd.databricks.v1+notebook": {
   "computePreferences": null,
   "dashboards": [],
   "environmentMetadata": {
    "base_environment": "",
    "environment_version": "2"
   },
   "inputWidgetPreferences": null,
   "language": "python",
   "notebookMetadata": {
    "pythonIndentUnit": 4
   },
   "notebookName": "01_CBS_REFERENCE_TABLES",
   "widgets": {}
  },
  "language_info": {
   "name": "python"
  }
 },
 "nbformat": 4,
 "nbformat_minor": 0
}